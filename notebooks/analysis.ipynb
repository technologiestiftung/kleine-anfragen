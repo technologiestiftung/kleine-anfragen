{
 "cells": [
  {
   "cell_type": "markdown",
   "metadata": {},
   "source": [
    "### Analyse von *kleine Anfragen*\n",
    "\n",
    "\n",
    "In dieser Analyse werden alle Titel von kleinen Anfragen, die zwischen 2011 und Jan. 2019 an die Berliner Regierung und Verwaltung gestellt wurden analysiert. Dabei wir vor allem die Worthäufigkeit und das gemeinsame auftreten von Worten angeschaut. Zusätzlich werden die Häufigkeiten nach antwortender Senatsverwaltung und nach Anfragestellender Partei analysiert.\n",
    "<br>\n",
    "\n",
    "### *Analysis of *parliamentary questions**\n",
    "*This is an analysis of all titles of parliamentary questions between 2011 and Jan. 2019 answered by the Berlin govermnent and administration.\n",
    "The titles will be anaysed in respect to word counts, co-occurences of words in titles, the amount of questions to the answering department and the amount of questions asked by party.*"
   ]
  },
  {
   "cell_type": "code",
   "execution_count": 163,
   "metadata": {},
   "outputs": [],
   "source": [
    "import pandas as pd\n",
    "import numpy as np\n",
    "from nltk.corpus import stopwords\n",
    "from nltk.stem.snowball import SnowballStemmer\n",
    "from sklearn.feature_extraction.text import CountVectorizer\n",
    "from sklearn.feature_extraction.text import TfidfVectorizer\n",
    "import itertools\n",
    "import matplotlib.pyplot as plt\n",
    "%matplotlib inline  \n",
    "from datetime import datetime\n",
    "import json"
   ]
  },
  {
   "cell_type": "code",
   "execution_count": 164,
   "metadata": {},
   "outputs": [],
   "source": [
    "df = pd.read_csv('../data/raw.csv')"
   ]
  },
  {
   "cell_type": "code",
   "execution_count": 166,
   "metadata": {},
   "outputs": [
    {
     "data": {
      "text/html": [
       "<div>\n",
       "<style scoped>\n",
       "    .dataframe tbody tr th:only-of-type {\n",
       "        vertical-align: middle;\n",
       "    }\n",
       "\n",
       "    .dataframe tbody tr th {\n",
       "        vertical-align: top;\n",
       "    }\n",
       "\n",
       "    .dataframe thead th {\n",
       "        text-align: right;\n",
       "    }\n",
       "</style>\n",
       "<table border=\"1\" class=\"dataframe\">\n",
       "  <thead>\n",
       "    <tr style=\"text-align: right;\">\n",
       "      <th></th>\n",
       "      <th>id</th>\n",
       "      <th>title</th>\n",
       "      <th>contents</th>\n",
       "      <th>contains_table</th>\n",
       "      <th>published_at</th>\n",
       "      <th>url</th>\n",
       "      <th>legislative_term</th>\n",
       "      <th>ministries</th>\n",
       "      <th>ministries_short</th>\n",
       "      <th>org</th>\n",
       "    </tr>\n",
       "  </thead>\n",
       "  <tbody>\n",
       "    <tr>\n",
       "      <th>0</th>\n",
       "      <td>1086</td>\n",
       "      <td>Abschaffung der Indologie und Kunstgeschichte ...</td>\n",
       "      <td>Drucksache 17 /  14 217 \\n Schriftliche Anfrag...</td>\n",
       "      <td>False</td>\n",
       "      <td>2014-07-17</td>\n",
       "      <td>http://pardok.parlament-berlin.de/starweb/adis...</td>\n",
       "      <td>17</td>\n",
       "      <td>Senatsverwaltung für Bildung, Jugend und Wisse...</td>\n",
       "      <td>SenBildJugWiss</td>\n",
       "      <td>CDU</td>\n",
       "    </tr>\n",
       "    <tr>\n",
       "      <th>1</th>\n",
       "      <td>1087</td>\n",
       "      <td>Ausgrenzung von Schulen in freier Trägerschaft...</td>\n",
       "      <td>Drucksache 17 /  14 163 \\n Schriftliche Anfrag...</td>\n",
       "      <td>False</td>\n",
       "      <td>2014-07-09</td>\n",
       "      <td>http://pardok.parlament-berlin.de/starweb/adis...</td>\n",
       "      <td>17</td>\n",
       "      <td>Senatsverwaltung für Bildung, Jugend und Wisse...</td>\n",
       "      <td>SenBildJugWiss</td>\n",
       "      <td>CDU</td>\n",
       "    </tr>\n",
       "    <tr>\n",
       "      <th>2</th>\n",
       "      <td>1090</td>\n",
       "      <td>Kinderschutz online - Was ist VERA-net?</td>\n",
       "      <td>Drucksache 17 /  14 150 \\n Schriftliche Anfrag...</td>\n",
       "      <td>False</td>\n",
       "      <td>2014-07-11</td>\n",
       "      <td>http://pardok.parlament-berlin.de/starweb/adis...</td>\n",
       "      <td>17</td>\n",
       "      <td>Senatsverwaltung für Bildung, Jugend und Wisse...</td>\n",
       "      <td>SenBildJugWiss</td>\n",
       "      <td>Piraten</td>\n",
       "    </tr>\n",
       "  </tbody>\n",
       "</table>\n",
       "</div>"
      ],
      "text/plain": [
       "     id                                              title  \\\n",
       "0  1086  Abschaffung der Indologie und Kunstgeschichte ...   \n",
       "1  1087  Ausgrenzung von Schulen in freier Trägerschaft...   \n",
       "2  1090            Kinderschutz online - Was ist VERA-net?   \n",
       "\n",
       "                                            contents contains_table  \\\n",
       "0  Drucksache 17 /  14 217 \\n Schriftliche Anfrag...          False   \n",
       "1  Drucksache 17 /  14 163 \\n Schriftliche Anfrag...          False   \n",
       "2  Drucksache 17 /  14 150 \\n Schriftliche Anfrag...          False   \n",
       "\n",
       "  published_at                                                url  \\\n",
       "0   2014-07-17  http://pardok.parlament-berlin.de/starweb/adis...   \n",
       "1   2014-07-09  http://pardok.parlament-berlin.de/starweb/adis...   \n",
       "2   2014-07-11  http://pardok.parlament-berlin.de/starweb/adis...   \n",
       "\n",
       "   legislative_term                                         ministries  \\\n",
       "0                17  Senatsverwaltung für Bildung, Jugend und Wisse...   \n",
       "1                17  Senatsverwaltung für Bildung, Jugend und Wisse...   \n",
       "2                17  Senatsverwaltung für Bildung, Jugend und Wisse...   \n",
       "\n",
       "  ministries_short      org  \n",
       "0   SenBildJugWiss      CDU  \n",
       "1   SenBildJugWiss      CDU  \n",
       "2   SenBildJugWiss  Piraten  "
      ]
     },
     "execution_count": 166,
     "metadata": {},
     "output_type": "execute_result"
    }
   ],
   "source": [
    "df.head(3)"
   ]
  },
  {
   "cell_type": "markdown",
   "metadata": {},
   "source": [
    "### Datenaufbereitung\n",
    "### *Data Cleaning*"
   ]
  },
  {
   "cell_type": "code",
   "execution_count": 167,
   "metadata": {},
   "outputs": [],
   "source": [
    "# make string date a datetime date\n",
    "df['published_datetime'] = df.published_at.apply(lambda x: datetime.strptime(x, '%Y-%m-%d'))"
   ]
  },
  {
   "cell_type": "code",
   "execution_count": 168,
   "metadata": {},
   "outputs": [],
   "source": [
    "# clean ministery names\n",
    "\n",
    "df.loc[df.ministries.apply(lambda x: 'Senatsverwaltung für Integration, Arbeit und Soziales' in x), 'ministries'] = 'Senatsverwaltung für Integration, Arbeit und Soziales'\n",
    "df.loc[df.ministries.apply(lambda x: 'Senatsverwaltung für Stadtentwicklung und Wohnen' in x), 'ministries'] = 'Senatsverwaltung für Stadtentwicklung und Wohnen'\n",
    "df.loc[df.ministries.apply(lambda x: 'SenUVK' in x), 'ministries'] = 'Senatsverwaltung für Umwelt, Verkehr und Klimaschutz'\n",
    "df.loc[df.ministries.apply(lambda x: 'SenUmVerKli' in x), 'ministries'] = 'Senatsverwaltung für Umwelt, Verkehr und Klimaschutz'\n",
    "df.loc[df.ministries.apply(lambda x: 'SenGesPfleGleich' in x), 'ministries'] = 'Senatsverwaltung für Gesundheit, Pflege und Gleichstellung'\n",
    "df.loc[df.ministries.apply(lambda x: 'SenStadtWohn' in x), 'ministries'] = 'Senatsverwaltung für Stadtentwicklung und Wohnen'\n",
    "df.loc[df.ministries.apply(lambda x: 'SenInnDS' in x), 'ministries'] = 'Senatsverwaltung für Inneres und Sport'\n",
    "df.loc[df.ministries.apply(lambda x: 'SenKultEu' in x), 'ministries'] = 'Senatsverwaltung Kultur und Europa'\n",
    "df.loc[df.ministries.apply(lambda x: 'Senatsverwaltung für Stadtentwicklung und Umwelt' in x), 'ministries'] = 'Senatsverwaltung für Stadtentwicklung und Umwelt (WP17)'\n",
    "df.loc[df.ministries.apply(lambda x: 'SenBildJugFam' in x), 'ministries'] = 'Senatsverwaltung für Bildung, Jugend und Familie'\n",
    "df.loc[df.ministries.apply(lambda x: 'SenIAS' in x), 'ministries'] = 'Senatsverwaltung für Integration, Arbeit und Soziales'\n",
    "df.loc[df.ministries.apply(lambda x: 'Senatsverwaltung für Arbeit, Integration und Frauen ' in x), 'ministries'] = 'Senatsverwaltung für Integration, Arbeit und Frauen (WP17)'\n",
    "df.loc[df.ministries.apply(lambda x: 'SenJustVA' in x), 'ministries'] = 'Senatsverwaltung für Justiz, Verbraucherschutz und Antidiskriminierung'\n",
    "df.loc[df.ministries.apply(lambda x: 'SenGPG' in x), 'ministries'] = 'Senatsverwaltung für Gesundheit, Pflege und Gleichstellung'\n",
    "df.loc[df.ministries.apply(lambda x: 'SenWiEnBe' in x), 'ministries'] = 'Senatsverwaltung für Wirtschaft, Energie und Betriebe'\n",
    "df.loc[df.ministries.apply(lambda x: 'WissForsch' in x), 'ministries'] = 'Wissenschaft und Forschung (Regierender Bürgermeister)'\n",
    "df.loc[df.ministries.apply(lambda x: 'SenIntArbSoz' in x), 'ministries'] = 'Senatsverwaltung für Integration, Arbeit und Soziales'\n",
    "df.loc[df.ministries.apply(lambda x: 'SenJustVerAnti' in x), 'ministries'] = 'Senatsverwaltung für Justiz, Verbraucherschutz und Antidiskriminierung'\n",
    "df.loc[df.ministries.apply(lambda x: 'Senatsverwaltung für Justiz und Verbraucherschutz' in x), 'ministries'] = 'Senatsverwaltung für Justiz, Verbraucherschutz und Antidiskriminierung'\n",
    "df.loc[df.ministries.apply(lambda x: 'SenBildWiss' in x), 'ministries'] = 'Senatsverwaltung für Bildung, Jugend und Wissenschaft (WP17)'\n",
    "df.loc[df.ministries.apply(lambda x: 'Senatsverwaltung für Bildung, Jugend und Forschung' in x), 'ministries'] = 'Senatsverwaltung für Bildung, Jugend und Wissenschaft (WP17)'\n",
    "df.loc[df.ministries.apply(lambda x: 'Senatsverwaltung für Bildung, Wisenschaft und Forschung' in x), 'ministries'] = 'Senatsverwaltung für Bildung, Jugend und Wissenschaft (WP17)'\n",
    "df.loc[df.ministries.apply(lambda x: 'Senatsverwaltung für Bildung, Jugend und Wissenschaft' in x), 'ministries'] = 'Senatsverwaltung für Bildung, Jugend und Wissenschaft (WP17)'\n",
    "df.loc[df.ministries.apply(lambda x: 'Senatsverwaltung für Gesundheit und Soziales' in x), 'ministries'] = 'Senatsverwaltung für Gesundheit und Soziales (WP17)'\n",
    "df.loc[df.ministries.apply(lambda x: 'Senatsverwaltung für Wirtschaft, Technolgie und Forschung' in x), 'ministries'] = 'Senatsverwaltung für Wirtschaft, Technolgie und Forschung (WP17)'\n",
    "df.loc[df.ministries.apply(lambda x: 'Senatsverwaltung für Arbeit, Integration und Frauen' in x), 'ministries'] = 'Senatsverwaltung für Arbeit, Integration und Frauen (WP17)'\n",
    "\n",
    "\n",
    "df.loc[(df.published_datetime > datetime(2016,12,8)) & (df.ministries == 'Senatsverwaltung für Stadtentwicklung und Umwelt (WP17)'), 'ministries']= 'Senatsverwaltung für Stadtentwicklung und Wohnen'"
   ]
  },
  {
   "cell_type": "code",
   "execution_count": 169,
   "metadata": {},
   "outputs": [],
   "source": [
    "df.ministries_short = df.ministries.apply(lambda x: x.replace('Senatsverwaltung für', 'Sen.'))"
   ]
  },
  {
   "cell_type": "code",
   "execution_count": 170,
   "metadata": {},
   "outputs": [
    {
     "data": {
      "text/html": [
       "<div>\n",
       "<style scoped>\n",
       "    .dataframe tbody tr th:only-of-type {\n",
       "        vertical-align: middle;\n",
       "    }\n",
       "\n",
       "    .dataframe tbody tr th {\n",
       "        vertical-align: top;\n",
       "    }\n",
       "\n",
       "    .dataframe thead th {\n",
       "        text-align: right;\n",
       "    }\n",
       "</style>\n",
       "<table border=\"1\" class=\"dataframe\">\n",
       "  <thead>\n",
       "    <tr style=\"text-align: right;\">\n",
       "      <th></th>\n",
       "      <th>id</th>\n",
       "      <th>title</th>\n",
       "      <th>contents</th>\n",
       "      <th>contains_table</th>\n",
       "      <th>published_at</th>\n",
       "      <th>url</th>\n",
       "      <th>legislative_term</th>\n",
       "      <th>ministries</th>\n",
       "      <th>ministries_short</th>\n",
       "      <th>org</th>\n",
       "      <th>published_datetime</th>\n",
       "    </tr>\n",
       "  </thead>\n",
       "  <tbody>\n",
       "    <tr>\n",
       "      <th>14609</th>\n",
       "      <td>90216</td>\n",
       "      <td>Entwicklung der Schul- und Kitaplätze im wachs...</td>\n",
       "      <td>Drucksache 18 / 15 572\\nSchriftliche Anfrage\\n...</td>\n",
       "      <td>True</td>\n",
       "      <td>1978-01-19</td>\n",
       "      <td>http://pardok.parlament-berlin.de/starweb/adis...</td>\n",
       "      <td>18</td>\n",
       "      <td>Senatsverwaltung für Bildung, Jugend und Familie</td>\n",
       "      <td>Sen. Bildung, Jugend und Familie</td>\n",
       "      <td>CDU</td>\n",
       "      <td>1978-01-19</td>\n",
       "    </tr>\n",
       "  </tbody>\n",
       "</table>\n",
       "</div>"
      ],
      "text/plain": [
       "          id                                              title  \\\n",
       "14609  90216  Entwicklung der Schul- und Kitaplätze im wachs...   \n",
       "\n",
       "                                                contents contains_table  \\\n",
       "14609  Drucksache 18 / 15 572\\nSchriftliche Anfrage\\n...           True   \n",
       "\n",
       "      published_at                                                url  \\\n",
       "14609   1978-01-19  http://pardok.parlament-berlin.de/starweb/adis...   \n",
       "\n",
       "       legislative_term                                        ministries  \\\n",
       "14609                18  Senatsverwaltung für Bildung, Jugend und Familie   \n",
       "\n",
       "                       ministries_short  org published_datetime  \n",
       "14609  Sen. Bildung, Jugend und Familie  CDU         1978-01-19  "
      ]
     },
     "execution_count": 170,
     "metadata": {},
     "output_type": "execute_result"
    }
   ],
   "source": [
    "# correct item with wrong year '1978'\n",
    "df.loc[df.published_datetime.apply(lambda x: x.year) == 1978]"
   ]
  },
  {
   "cell_type": "code",
   "execution_count": 171,
   "metadata": {},
   "outputs": [],
   "source": [
    "df.loc[df.published_datetime.apply(lambda x: x.year) == 1978, 'published_datetime'] = datetime(2018,7,19)"
   ]
  },
  {
   "cell_type": "markdown",
   "metadata": {},
   "source": [
    "## Explorative Analyse\n",
    "\n",
    "## *First exploration*"
   ]
  },
  {
   "cell_type": "markdown",
   "metadata": {},
   "source": [
    "### Anzahl Anfragen nach Senatsverwaltungen\n",
    "### *Count of questions per minstry*"
   ]
  },
  {
   "cell_type": "markdown",
   "metadata": {},
   "source": [
    "Wahlperiode 17:"
   ]
  },
  {
   "cell_type": "code",
   "execution_count": 172,
   "metadata": {},
   "outputs": [],
   "source": [
    "sonstige_threshold = 200\n",
    "ministries_17=df[df.legislative_term == 17].ministries_short.value_counts()\n",
    "\n",
    "# create field \"sonstige\"\n",
    "ministries_17['Sonstige'] =ministries_17[ministries_17 < sonstige_threshold].sum()\n",
    "# drop all ministries now included in \"Sonstige\"\n",
    "ministries_17.drop(ministries_17[ministries_17 < sonstige_threshold].index, axis=0, inplace=True)\n",
    "\n",
    "# style table for javascript\n",
    "ministries_17 = pd.DataFrame(ministries_17.sort_values(ascending=False)).reset_index()\n",
    "ministries_17.columns = ['ministry','absolute']\n",
    "ministries_17['percentage'] = ministries_17[\"absolute\"]\\\n",
    "    .apply(lambda x: str(round(x / ministries_17[\"absolute\"].sum() * 100, 1)) + \"%\")"
   ]
  },
  {
   "cell_type": "code",
   "execution_count": 173,
   "metadata": {},
   "outputs": [
    {
     "data": {
      "text/html": [
       "<div>\n",
       "<style scoped>\n",
       "    .dataframe tbody tr th:only-of-type {\n",
       "        vertical-align: middle;\n",
       "    }\n",
       "\n",
       "    .dataframe tbody tr th {\n",
       "        vertical-align: top;\n",
       "    }\n",
       "\n",
       "    .dataframe thead th {\n",
       "        text-align: right;\n",
       "    }\n",
       "</style>\n",
       "<table border=\"1\" class=\"dataframe\">\n",
       "  <thead>\n",
       "    <tr style=\"text-align: right;\">\n",
       "      <th></th>\n",
       "      <th>ministry</th>\n",
       "      <th>absolute</th>\n",
       "      <th>percentage</th>\n",
       "    </tr>\n",
       "  </thead>\n",
       "  <tbody>\n",
       "    <tr>\n",
       "      <th>0</th>\n",
       "      <td>Sen. Stadtentwicklung und Umwelt (WP17)</td>\n",
       "      <td>2282</td>\n",
       "      <td>24.5%</td>\n",
       "    </tr>\n",
       "    <tr>\n",
       "      <th>1</th>\n",
       "      <td>Sen. Inneres und Sport</td>\n",
       "      <td>1983</td>\n",
       "      <td>21.2%</td>\n",
       "    </tr>\n",
       "    <tr>\n",
       "      <th>2</th>\n",
       "      <td>Sen. Bildung, Jugend und Wissenschaft (WP17)</td>\n",
       "      <td>1653</td>\n",
       "      <td>17.7%</td>\n",
       "    </tr>\n",
       "    <tr>\n",
       "      <th>3</th>\n",
       "      <td>Sen. Gesundheit und Soziales (WP17)</td>\n",
       "      <td>905</td>\n",
       "      <td>9.7%</td>\n",
       "    </tr>\n",
       "    <tr>\n",
       "      <th>4</th>\n",
       "      <td>Sen. Finanzen</td>\n",
       "      <td>537</td>\n",
       "      <td>5.8%</td>\n",
       "    </tr>\n",
       "    <tr>\n",
       "      <th>5</th>\n",
       "      <td>Sen. Justiz, Verbraucherschutz und Antidiskrim...</td>\n",
       "      <td>511</td>\n",
       "      <td>5.5%</td>\n",
       "    </tr>\n",
       "    <tr>\n",
       "      <th>6</th>\n",
       "      <td>Regierender Bürgermeister</td>\n",
       "      <td>487</td>\n",
       "      <td>5.2%</td>\n",
       "    </tr>\n",
       "    <tr>\n",
       "      <th>7</th>\n",
       "      <td>Sen. Arbeit, Integration und Frauen (WP17)</td>\n",
       "      <td>405</td>\n",
       "      <td>4.3%</td>\n",
       "    </tr>\n",
       "    <tr>\n",
       "      <th>8</th>\n",
       "      <td>Sen. Wirtschaft, Technolgie und Forschung (WP17)</td>\n",
       "      <td>360</td>\n",
       "      <td>3.9%</td>\n",
       "    </tr>\n",
       "    <tr>\n",
       "      <th>9</th>\n",
       "      <td>Sonstige</td>\n",
       "      <td>209</td>\n",
       "      <td>2.2%</td>\n",
       "    </tr>\n",
       "  </tbody>\n",
       "</table>\n",
       "</div>"
      ],
      "text/plain": [
       "                                            ministry  absolute percentage\n",
       "0            Sen. Stadtentwicklung und Umwelt (WP17)      2282      24.5%\n",
       "1                             Sen. Inneres und Sport      1983      21.2%\n",
       "2       Sen. Bildung, Jugend und Wissenschaft (WP17)      1653      17.7%\n",
       "3                Sen. Gesundheit und Soziales (WP17)       905       9.7%\n",
       "4                                      Sen. Finanzen       537       5.8%\n",
       "5  Sen. Justiz, Verbraucherschutz und Antidiskrim...       511       5.5%\n",
       "6                          Regierender Bürgermeister       487       5.2%\n",
       "7         Sen. Arbeit, Integration und Frauen (WP17)       405       4.3%\n",
       "8   Sen. Wirtschaft, Technolgie und Forschung (WP17)       360       3.9%\n",
       "9                                           Sonstige       209       2.2%"
      ]
     },
     "execution_count": 173,
     "metadata": {},
     "output_type": "execute_result"
    }
   ],
   "source": [
    "ministries_17"
   ]
  },
  {
   "cell_type": "code",
   "execution_count": 174,
   "metadata": {},
   "outputs": [],
   "source": [
    "ministries_17.to_csv('../data/ministries_17.csv')"
   ]
  },
  {
   "cell_type": "markdown",
   "metadata": {},
   "source": [
    "Wahlperiode 18:"
   ]
  },
  {
   "cell_type": "code",
   "execution_count": 175,
   "metadata": {},
   "outputs": [],
   "source": [
    "sonstige_threshold = 200\n",
    "ministries_18=df[df.legislative_term == 18].ministries_short.value_counts()\n",
    "#ministries_18.drop('Skzl (Flughafenkoordinator)', axis=0, inplace=True)\n",
    "ministries_18['Sonstige'] =ministries_18[ministries_18 < sonstige_threshold].sum()\n",
    "ministries_18.drop(ministries_18[ministries_18 < sonstige_threshold].index, axis=0, inplace=True)\n",
    "ministries_18 = pd.DataFrame(ministries_18.sort_values(ascending=False)).reset_index()\n",
    "ministries_18.columns = ['ministry','absolute']\n",
    "ministries_18['percentage'] = ministries_18[\"absolute\"]\\\n",
    "    .apply(lambda x: str(round(x / ministries_18[\"absolute\"].sum() * 100, 1)) + \"%\")"
   ]
  },
  {
   "cell_type": "code",
   "execution_count": 176,
   "metadata": {},
   "outputs": [
    {
     "data": {
      "text/html": [
       "<div>\n",
       "<style scoped>\n",
       "    .dataframe tbody tr th:only-of-type {\n",
       "        vertical-align: middle;\n",
       "    }\n",
       "\n",
       "    .dataframe tbody tr th {\n",
       "        vertical-align: top;\n",
       "    }\n",
       "\n",
       "    .dataframe thead th {\n",
       "        text-align: right;\n",
       "    }\n",
       "</style>\n",
       "<table border=\"1\" class=\"dataframe\">\n",
       "  <thead>\n",
       "    <tr style=\"text-align: right;\">\n",
       "      <th></th>\n",
       "      <th>ministry</th>\n",
       "      <th>absolute</th>\n",
       "      <th>percentage</th>\n",
       "    </tr>\n",
       "  </thead>\n",
       "  <tbody>\n",
       "    <tr>\n",
       "      <th>0</th>\n",
       "      <td>Sen. Inneres und Sport</td>\n",
       "      <td>1545</td>\n",
       "      <td>21.9%</td>\n",
       "    </tr>\n",
       "    <tr>\n",
       "      <th>1</th>\n",
       "      <td>Sen. Umwelt, Verkehr und Klimaschutz</td>\n",
       "      <td>1285</td>\n",
       "      <td>18.2%</td>\n",
       "    </tr>\n",
       "    <tr>\n",
       "      <th>2</th>\n",
       "      <td>Sen. Bildung, Jugend und Familie</td>\n",
       "      <td>1165</td>\n",
       "      <td>16.5%</td>\n",
       "    </tr>\n",
       "    <tr>\n",
       "      <th>3</th>\n",
       "      <td>Sonstige</td>\n",
       "      <td>658</td>\n",
       "      <td>9.3%</td>\n",
       "    </tr>\n",
       "    <tr>\n",
       "      <th>4</th>\n",
       "      <td>Sen. Stadtentwicklung und Wohnen</td>\n",
       "      <td>610</td>\n",
       "      <td>8.7%</td>\n",
       "    </tr>\n",
       "    <tr>\n",
       "      <th>5</th>\n",
       "      <td>Sen. Integration, Arbeit und Soziales</td>\n",
       "      <td>477</td>\n",
       "      <td>6.8%</td>\n",
       "    </tr>\n",
       "    <tr>\n",
       "      <th>6</th>\n",
       "      <td>Sen. Finanzen</td>\n",
       "      <td>412</td>\n",
       "      <td>5.8%</td>\n",
       "    </tr>\n",
       "    <tr>\n",
       "      <th>7</th>\n",
       "      <td>Sen. Justiz, Verbraucherschutz und Antidiskrim...</td>\n",
       "      <td>391</td>\n",
       "      <td>5.5%</td>\n",
       "    </tr>\n",
       "    <tr>\n",
       "      <th>8</th>\n",
       "      <td>Sen. Gesundheit, Pflege und Gleichstellung</td>\n",
       "      <td>254</td>\n",
       "      <td>3.6%</td>\n",
       "    </tr>\n",
       "    <tr>\n",
       "      <th>9</th>\n",
       "      <td>Regierender Bürgermeister</td>\n",
       "      <td>249</td>\n",
       "      <td>3.5%</td>\n",
       "    </tr>\n",
       "  </tbody>\n",
       "</table>\n",
       "</div>"
      ],
      "text/plain": [
       "                                            ministry  absolute percentage\n",
       "0                             Sen. Inneres und Sport      1545      21.9%\n",
       "1               Sen. Umwelt, Verkehr und Klimaschutz      1285      18.2%\n",
       "2                   Sen. Bildung, Jugend und Familie      1165      16.5%\n",
       "3                                           Sonstige       658       9.3%\n",
       "4                   Sen. Stadtentwicklung und Wohnen       610       8.7%\n",
       "5              Sen. Integration, Arbeit und Soziales       477       6.8%\n",
       "6                                      Sen. Finanzen       412       5.8%\n",
       "7  Sen. Justiz, Verbraucherschutz und Antidiskrim...       391       5.5%\n",
       "8         Sen. Gesundheit, Pflege und Gleichstellung       254       3.6%\n",
       "9                          Regierender Bürgermeister       249       3.5%"
      ]
     },
     "execution_count": 176,
     "metadata": {},
     "output_type": "execute_result"
    }
   ],
   "source": [
    "ministries_18"
   ]
  },
  {
   "cell_type": "code",
   "execution_count": 177,
   "metadata": {},
   "outputs": [],
   "source": [
    "ministries_18.to_csv('../data/ministries_18.csv')"
   ]
  },
  {
   "cell_type": "markdown",
   "metadata": {},
   "source": [
    "_Departments concerning \"environment\", \"interior\" & \"sports\", \"education & youth\", \"city development\" and \"social\" receive most requests._\n",
    "<br>\n",
    "Besonders die Senatsverwaltungen zu den Themen Umwelt, Inneres & Sport, Bildung & Jugend, Stadtentwicklung und Soziales werden häufig angefragt."
   ]
  },
  {
   "cell_type": "markdown",
   "metadata": {},
   "source": [
    "### Anzahl Anfragen nach Partei\n",
    "### *Count of questions by party:*"
   ]
  },
  {
   "cell_type": "markdown",
   "metadata": {},
   "source": [
    "Wahlperiode 17:"
   ]
  },
  {
   "cell_type": "code",
   "execution_count": 178,
   "metadata": {},
   "outputs": [
    {
     "data": {
      "text/plain": [
       "Bündnis 90/Die Grünen    2400\n",
       "Piraten                  2369\n",
       "Die Linke                1845\n",
       "CDU                      1441\n",
       "SPD                      1129\n",
       "GRÜEN                      96\n",
       "FDP/DVP                    25\n",
       "BVB/FW                     14\n",
       "fraktionslos               13\n",
       "Name: org, dtype: int64"
      ]
     },
     "execution_count": 178,
     "metadata": {},
     "output_type": "execute_result"
    }
   ],
   "source": [
    "party_17 = df[df.legislative_term == 17].org.value_counts()\n",
    "party_17"
   ]
  },
  {
   "cell_type": "markdown",
   "metadata": {},
   "source": [
    "Wahlperiode 18:"
   ]
  },
  {
   "cell_type": "code",
   "execution_count": 179,
   "metadata": {},
   "outputs": [
    {
     "data": {
      "text/plain": [
       "CDU                      1730\n",
       "FDP                      1342\n",
       "SPD                      1105\n",
       "AfD                      1010\n",
       "Die Linke                 922\n",
       "Bündnis 90/Die Grünen     892\n",
       "fraktionslos               30\n",
       "FDP/DVP                    15\n",
       "Name: org, dtype: int64"
      ]
     },
     "execution_count": 179,
     "metadata": {},
     "output_type": "execute_result"
    }
   ],
   "source": [
    "party_18 = df[df.legislative_term == 18].org.value_counts()\n",
    "party_18"
   ]
  },
  {
   "cell_type": "markdown",
   "metadata": {},
   "source": [
    "_AfD and FDP were not part of the Parliament in the legislative period 17. Therefore, there were no 'Anfragen'. The CDU made more 'Anfragen' in the legislative period 18 (as they are not in the government anymore) while 'Die Linke' and 'Die Grünen' made more 'Anfragen' in period 17, as they were not yet part of the government._\n",
    "<br><br>\n",
    "AfD und FDP waren in der Wahlperiode 17 nicht im Abgeordnetenhaus vertreten, entsprechend gab es keine Anfragen. Sonst sind ie Anfragen vergleichsweise gleichmäßig verteilt. Die CDU stellt in WP18 mehr Anfragen (nicht mehr in aktueller Regierung) während die Linke und die Grünen in WP17 mehr Anfrage stellten, als sie nicht Teil der Regierung stellten."
   ]
  },
  {
   "cell_type": "markdown",
   "metadata": {},
   "source": [
    "#### Anzahl Anfragen nach Partei und führender Partei einer Senatsverwaltung\n",
    "#### Count of queries for each ministry by party"
   ]
  },
  {
   "cell_type": "markdown",
   "metadata": {},
   "source": [
    "Wahlperiode 17"
   ]
  },
  {
   "cell_type": "code",
   "execution_count": 180,
   "metadata": {},
   "outputs": [],
   "source": [
    "ministry_party = pd.DataFrame(data={'Regierender Bürgermeister': ['SPD'],\n",
    "'Sen. Bildung, Jugend und Wissenschaft (WP17)': ['SPD'],\n",
    "'Sen. Gesundheit und Soziales': ['SPD'],\n",
    "'Sen. Inneres und Sport': ['CDU'],\n",
    "'Sen. Arbeit, Integration und Frauen (WP17)': ['SPD'],\n",
    "'Sen. Justiz, Verbraucherschutz und Antidiskriminierung': ['CDU'],\n",
    "'Sen. Stadtentwicklung und Umwelt (WP17)': ['SPD'],\n",
    "'Sen. Wirtschaft, Technolgie und Forschung (WP17)': ['CDU']\n",
    "                  }).T"
   ]
  },
  {
   "cell_type": "code",
   "execution_count": 181,
   "metadata": {},
   "outputs": [],
   "source": [
    "ministry_party.index.name = \"ministries_short\""
   ]
  },
  {
   "cell_type": "code",
   "execution_count": 182,
   "metadata": {},
   "outputs": [],
   "source": [
    "ministry_by_party_counts = df[df.legislative_term == 17].groupby([df.ministries_short, df.org]).count().iloc[:,0].unstack()"
   ]
  },
  {
   "cell_type": "code",
   "execution_count": 183,
   "metadata": {},
   "outputs": [],
   "source": [
    "ministry_by_party_counts = ministry_by_party_counts.drop('FDP/DVP', axis=1)"
   ]
  },
  {
   "cell_type": "code",
   "execution_count": 184,
   "metadata": {},
   "outputs": [],
   "source": [
    "colors = {'AfD': 'blue', 'SPD': 'red', 'CDU': 'black', 'Piraten': 'orange', 'Die Linke': 'purple', 'FDP':'yellow', 'Bündnis 90/Die Grünen':'green', 'BVB/FW': 'grey', 'fraktionslos':'grey', 'GRÜEN':'green'}"
   ]
  },
  {
   "cell_type": "code",
   "execution_count": 185,
   "metadata": {},
   "outputs": [
    {
     "data": {
      "text/plain": [
       "<matplotlib.axes._subplots.AxesSubplot at 0x1a22f6c3c8>"
      ]
     },
     "execution_count": 185,
     "metadata": {},
     "output_type": "execute_result"
    },
    {
     "data": {
      "image/png": "[encoded data removed]",
      "text/plain": [
       "<Figure size 432x288 with 1 Axes>"
      ]
     },
     "metadata": {
      "needs_background": "light"
     },
     "output_type": "display_data"
    }
   ],
   "source": [
    "ministry_by_party_counts.merge(ministry_party, on = \"ministries_short\").groupby([0]).sum().plot(color=[colors[i] for i in ministry_by_party_counts.columns], kind='barh')"
   ]
  },
  {
   "cell_type": "markdown",
   "metadata": {},
   "source": [
    "Wahlperiode 18"
   ]
  },
  {
   "cell_type": "code",
   "execution_count": 186,
   "metadata": {},
   "outputs": [],
   "source": [
    "ministry_party = pd.DataFrame(data={'Regierender Bürgermeister': ['SPD'],\n",
    "'Sen. Bildung, Jugend und Familie': ['SPD'],\n",
    "'Sen. Finanzen': ['SPD'],\n",
    "'Sen. Gesundheit, Pflege und Gleichstellung': ['SPD'],\n",
    "'Sen. Inneres und Sport': ['SPD'],\n",
    "'Sen. Integration, Arbeit und Soziales': ['Die Linke'],\n",
    "'Sen. Justiz, Verbraucherschutz und Antidiskriminierung': ['Bündnis 90 / Die Grünen'],\n",
    "'Sen. Stadtentwicklung und Wohnen': ['Die Linke'],\n",
    "'Sen. Wirtschaft, Energie und Betriebe': ['Bündnis 90 / Die Grünen'],\n",
    "'Senatsverwaltung Kultur und Europa': ['Die Linke'],\n",
    "'Wissenschaft und Forschung (Regierender Bürgermeister)': ['SPD']\n",
    "                  }).T"
   ]
  },
  {
   "cell_type": "code",
   "execution_count": 187,
   "metadata": {},
   "outputs": [],
   "source": [
    "ministry_party.index.name = \"ministries_short\""
   ]
  },
  {
   "cell_type": "code",
   "execution_count": 188,
   "metadata": {},
   "outputs": [],
   "source": [
    "ministry_by_party_counts = df[df.legislative_term == 18].groupby([df.ministries_short, df.org]).count().iloc[:,0].unstack()"
   ]
  },
  {
   "cell_type": "code",
   "execution_count": 189,
   "metadata": {},
   "outputs": [],
   "source": [
    "ministry_by_party_counts = ministry_by_party_counts.drop('FDP/DVP', axis=1)"
   ]
  },
  {
   "cell_type": "code",
   "execution_count": 190,
   "metadata": {},
   "outputs": [],
   "source": [
    "colors = {'AfD': 'blue', 'SPD': 'red', 'CDU': 'black', 'Piraten': 'orange', 'Die Linke': 'purple', 'FDP':'yellow', 'Bündnis 90/Die Grünen':'green', 'BVB/FW': 'grey', 'fraktionslos':'grey', 'GRÜEN':'green'}"
   ]
  },
  {
   "cell_type": "code",
   "execution_count": 191,
   "metadata": {},
   "outputs": [
    {
     "data": {
      "text/plain": [
       "<matplotlib.axes._subplots.AxesSubplot at 0x1a1dc1d278>"
      ]
     },
     "execution_count": 191,
     "metadata": {},
     "output_type": "execute_result"
    },
    {
     "data": {
      "image/png": "[encoded data removed]",
      "text/plain": [
       "<Figure size 432x288 with 1 Axes>"
      ]
     },
     "metadata": {
      "needs_background": "light"
     },
     "output_type": "display_data"
    }
   ],
   "source": [
    "ministry_by_party_counts.merge(ministry_party, on = \"ministries_short\").groupby([0]).sum().plot(color=[colors[i] for i in ministry_by_party_counts.columns], kind='barh')"
   ]
  },
  {
   "cell_type": "markdown",
   "metadata": {},
   "source": [
    "How many inqueries were posted by which party segregated into SPD, Linke and Grüne senate deapartments in the election term 18?"
   ]
  },
  {
   "cell_type": "markdown",
   "metadata": {},
   "source": [
    "\n",
    "\n",
    "### Anfragen nach Ausschüssen\n",
    "\n",
    "### _Inquiries grouped by comitees_"
   ]
  },
  {
   "cell_type": "markdown",
   "metadata": {},
   "source": [
    "Anzahl Anfragen, die von Mitgliedern in bestimmten Ausschüssen gestellt wurden.\n",
    "\n",
    "Amount of inquieries that were made by members of certain comitees."
   ]
  },
  {
   "cell_type": "code",
   "execution_count": 192,
   "metadata": {},
   "outputs": [],
   "source": [
    "def check_mda(x):\n",
    "    for member in members:\n",
    "        if member in x:\n",
    "            return True\n",
    "    return False"
   ]
  },
  {
   "cell_type": "code",
   "execution_count": 193,
   "metadata": {},
   "outputs": [],
   "source": [
    "# all members that are part of the BJF Ausschuss\n",
    "\n",
    "members = ['Hildegard Bentele'\n",
    "'Jessica Bießmann',\n",
    "'Franziska Brychcy',\n",
    "'Dennis Buchner',\n",
    "'Marianne Burkert-Eulitz',\n",
    "'Mario Czaja',\n",
    "'Ina Czyborra',\n",
    "'Emine Demirbürken-Wegner',\n",
    "'Paul Fresdorf',\n",
    "'Bettina Jarasch',\n",
    "'Stefan Franz Kerker',\n",
    "'Regina Kittler',\n",
    "'Melanie Kühnemann',\n",
    "'Joschka Langenbrinck',\n",
    "'Maja Lasić',\n",
    "'Gunnar Lindemann',\n",
    "'Stefanie Remlinger',\n",
    "'Katrin Seidel',\n",
    "'Roman Simon',\n",
    "'Florian Swyter',\n",
    "'June Tomiak']"
   ]
  },
  {
   "cell_type": "code",
   "execution_count": 194,
   "metadata": {},
   "outputs": [],
   "source": [
    "# all queries that were posted from members of the bjf Ausschuss and in the term 18\n",
    "bjf = df[(df.legislative_term == 18) & (df.contents.apply(lambda x: check_mda(x)))]"
   ]
  },
  {
   "cell_type": "code",
   "execution_count": 195,
   "metadata": {},
   "outputs": [
    {
     "data": {
      "text/plain": [
       "id                    1089\n",
       "title                 1089\n",
       "contents              1089\n",
       "contains_table        1089\n",
       "published_at          1089\n",
       "url                   1089\n",
       "legislative_term      1089\n",
       "ministries            1089\n",
       "ministries_short      1089\n",
       "org                   1089\n",
       "published_datetime    1089\n",
       "dtype: int64"
      ]
     },
     "execution_count": 195,
     "metadata": {},
     "output_type": "execute_result"
    }
   ],
   "source": [
    "bjf.count()"
   ]
  },
  {
   "cell_type": "code",
   "execution_count": 196,
   "metadata": {},
   "outputs": [
    {
     "data": {
      "text/plain": [
       "Sen. Bildung, Jugend und Familie                          604\n",
       "Sen. Inneres und Sport                                    148\n",
       "Sen. Umwelt, Verkehr und Klimaschutz                      130\n",
       "Sen. Stadtentwicklung und Wohnen                           60\n",
       "Sen. Integration, Arbeit und Soziales                      33\n",
       "Sen. Finanzen                                              19\n",
       "Sen. Justiz, Verbraucherschutz und Antidiskriminierung     18\n",
       "Sen. Wirtschaft, Energie und Betriebe                      16\n",
       "Sen. Bildung, Jugend und Wissenschaft (WP17)               14\n",
       "Sen. Gesundheit, Pflege und Gleichstellung                 11\n",
       "Regierender Bürgermeister                                  10\n",
       "Senatsverwaltung Kultur und Europa                          8\n",
       "Wissenschaft und Forschung (Regierender Bürgermeister)      6\n",
       "Sen. Gesundheit und Soziales (WP17)                         4\n",
       "Senatskanzlei                                               4\n",
       "Sen. Stadtentwicklung und Umwelt (WP17)                     3\n",
       "Sen. Arbeit, Integration und Frauen (WP17)                  1\n",
       "Name: ministries_short, dtype: int64"
      ]
     },
     "execution_count": 196,
     "metadata": {},
     "output_type": "execute_result"
    }
   ],
   "source": [
    "bjf.ministries_short.value_counts()"
   ]
  },
  {
   "cell_type": "markdown",
   "metadata": {},
   "source": [
    "Von Mitgliedern des Ausschuss Bildung, Jugend und Familie wurden 1089 Anfragen gestellt.\n",
    "\n",
    "1089 inquiries were made by members of the commitee education, youth and family."
   ]
  },
  {
   "cell_type": "code",
   "execution_count": 197,
   "metadata": {},
   "outputs": [],
   "source": [
    "# members of the comittee science and research (Wissenschaft und Forschung)\n",
    "\n",
    "members = ['Hildegard Bentele',\n",
    "'Franziska Brychcy',\n",
    "'Christian Buchholz',\n",
    "'Dennis Buchner',\n",
    "'Ina Czyborra',\n",
    "'Stefan Förster',\n",
    "'Adrian Grasse',\n",
    "'Hans-Christian Hausmann',\n",
    "'Florian Kluckert',\n",
    "'Maja Lasić',\n",
    "'Nicole Ludwig',\n",
    "'Catherina Pieroth-Manelli',\n",
    "'Robert Schaddach',\n",
    "'Anja Schillhaneck',\n",
    "'Sebastian Schlüsselburg',\n",
    "'Tobias Schulze',\n",
    "'Martin Trefzer']"
   ]
  },
  {
   "cell_type": "code",
   "execution_count": 198,
   "metadata": {},
   "outputs": [
    {
     "data": {
      "text/plain": [
       "id                    791\n",
       "title                 791\n",
       "contents              791\n",
       "contains_table        790\n",
       "published_at          791\n",
       "url                   791\n",
       "legislative_term      791\n",
       "ministries            791\n",
       "ministries_short      791\n",
       "org                   791\n",
       "published_datetime    791\n",
       "dtype: int64"
      ]
     },
     "execution_count": 198,
     "metadata": {},
     "output_type": "execute_result"
    }
   ],
   "source": [
    "wf = df[(df.legislative_term == 18) & (df.contents.apply(lambda x: check_mda(x)))]\n",
    "wf.count()"
   ]
  },
  {
   "cell_type": "markdown",
   "metadata": {},
   "source": [
    "Von Mitgliedern des Ausschuss Bildung, Jugend und Familie wurden 791 Anfragen gestellt.\n",
    "\n",
    "791 inquiries were made by members of the commitee education, youth and family."
   ]
  },
  {
   "cell_type": "code",
   "execution_count": 199,
   "metadata": {},
   "outputs": [
    {
     "data": {
      "text/plain": [
       "Sen. Umwelt, Verkehr und Klimaschutz                      134\n",
       "Regierender Bürgermeister                                 107\n",
       "Wissenschaft und Forschung (Regierender Bürgermeister)     95\n",
       "Sen. Bildung, Jugend und Familie                           88\n",
       "Sen. Inneres und Sport                                     86\n",
       "Sen. Stadtentwicklung und Wohnen                           57\n",
       "Sen. Finanzen                                              40\n",
       "Senatsverwaltung Kultur und Europa                         40\n",
       "Sen. Justiz, Verbraucherschutz und Antidiskriminierung     38\n",
       "Sen. Integration, Arbeit und Soziales                      32\n",
       "Sen. Wirtschaft, Energie und Betriebe                      30\n",
       "Sen. Gesundheit, Pflege und Gleichstellung                 28\n",
       "Senatskanzlei                                              10\n",
       "Sen. Bildung, Jugend und Wissenschaft (WP17)                3\n",
       "Sen. Stadtentwicklung und Umwelt (WP17)                     3\n",
       "Name: ministries_short, dtype: int64"
      ]
     },
     "execution_count": 199,
     "metadata": {},
     "output_type": "execute_result"
    }
   ],
   "source": [
    "wf.ministries_short.value_counts()"
   ]
  },
  {
   "cell_type": "markdown",
   "metadata": {},
   "source": [
    "### Anzahl Anfragen mit Tabellen\n",
    "### *Amount of questions containing tables*"
   ]
  },
  {
   "cell_type": "code",
   "execution_count": 200,
   "metadata": {},
   "outputs": [
    {
     "data": {
      "text/plain": [
       "False    11128\n",
       "True      5246\n",
       "Name: contains_table, dtype: int64"
      ]
     },
     "execution_count": 200,
     "metadata": {},
     "output_type": "execute_result"
    }
   ],
   "source": [
    "df.contains_table.value_counts()"
   ]
  },
  {
   "cell_type": "markdown",
   "metadata": {},
   "source": [
    "## Analyse von Anfragetiteln\n",
    "## *Analysis of question titles (Text Mining)*"
   ]
  },
  {
   "cell_type": "markdown",
   "metadata": {},
   "source": [
    "### Punktuation entfernen\n",
    "### *Remove punctuation*"
   ]
  },
  {
   "cell_type": "code",
   "execution_count": 201,
   "metadata": {},
   "outputs": [],
   "source": [
    "def remove_punctuation(text):\n",
    "    '''a function for removing punctuation'''\n",
    "    import string\n",
    "    # replacing the punctuations with no space, \n",
    "    # which in effect deletes the punctuation marks \n",
    "    translator = str.maketrans('', '', string.punctuation)\n",
    "    # return the text stripped of punctuation marks\n",
    "    return text.translate(translator)"
   ]
  },
  {
   "cell_type": "code",
   "execution_count": 202,
   "metadata": {},
   "outputs": [
    {
     "data": {
      "text/html": [
       "<div>\n",
       "<style scoped>\n",
       "    .dataframe tbody tr th:only-of-type {\n",
       "        vertical-align: middle;\n",
       "    }\n",
       "\n",
       "    .dataframe tbody tr th {\n",
       "        vertical-align: top;\n",
       "    }\n",
       "\n",
       "    .dataframe thead th {\n",
       "        text-align: right;\n",
       "    }\n",
       "</style>\n",
       "<table border=\"1\" class=\"dataframe\">\n",
       "  <thead>\n",
       "    <tr style=\"text-align: right;\">\n",
       "      <th></th>\n",
       "      <th>id</th>\n",
       "      <th>title_processed</th>\n",
       "      <th>title</th>\n",
       "      <th>contents</th>\n",
       "      <th>contains_table</th>\n",
       "      <th>published_at</th>\n",
       "      <th>url</th>\n",
       "      <th>legislative_term</th>\n",
       "      <th>ministries</th>\n",
       "      <th>ministries_short</th>\n",
       "      <th>org</th>\n",
       "      <th>published_datetime</th>\n",
       "    </tr>\n",
       "  </thead>\n",
       "  <tbody>\n",
       "    <tr>\n",
       "      <th>0</th>\n",
       "      <td>1086</td>\n",
       "      <td>Abschaffung der Indologie und Kunstgeschichte ...</td>\n",
       "      <td>Abschaffung der Indologie und Kunstgeschichte ...</td>\n",
       "      <td>Drucksache 17 /  14 217 \\n Schriftliche Anfrag...</td>\n",
       "      <td>False</td>\n",
       "      <td>2014-07-17</td>\n",
       "      <td>http://pardok.parlament-berlin.de/starweb/adis...</td>\n",
       "      <td>17</td>\n",
       "      <td>Senatsverwaltung für Bildung, Jugend und Wisse...</td>\n",
       "      <td>Sen. Bildung, Jugend und Wissenschaft (WP17)</td>\n",
       "      <td>CDU</td>\n",
       "      <td>2014-07-17</td>\n",
       "    </tr>\n",
       "    <tr>\n",
       "      <th>1</th>\n",
       "      <td>1087</td>\n",
       "      <td>Ausgrenzung von Schulen in freier Trägerschaft...</td>\n",
       "      <td>Ausgrenzung von Schulen in freier Trägerschaft...</td>\n",
       "      <td>Drucksache 17 /  14 163 \\n Schriftliche Anfrag...</td>\n",
       "      <td>False</td>\n",
       "      <td>2014-07-09</td>\n",
       "      <td>http://pardok.parlament-berlin.de/starweb/adis...</td>\n",
       "      <td>17</td>\n",
       "      <td>Senatsverwaltung für Bildung, Jugend und Wisse...</td>\n",
       "      <td>Sen. Bildung, Jugend und Wissenschaft (WP17)</td>\n",
       "      <td>CDU</td>\n",
       "      <td>2014-07-09</td>\n",
       "    </tr>\n",
       "    <tr>\n",
       "      <th>2</th>\n",
       "      <td>1090</td>\n",
       "      <td>Kinderschutz online  Was ist VERAnet</td>\n",
       "      <td>Kinderschutz online - Was ist VERA-net?</td>\n",
       "      <td>Drucksache 17 /  14 150 \\n Schriftliche Anfrag...</td>\n",
       "      <td>False</td>\n",
       "      <td>2014-07-11</td>\n",
       "      <td>http://pardok.parlament-berlin.de/starweb/adis...</td>\n",
       "      <td>17</td>\n",
       "      <td>Senatsverwaltung für Bildung, Jugend und Wisse...</td>\n",
       "      <td>Sen. Bildung, Jugend und Wissenschaft (WP17)</td>\n",
       "      <td>Piraten</td>\n",
       "      <td>2014-07-11</td>\n",
       "    </tr>\n",
       "    <tr>\n",
       "      <th>3</th>\n",
       "      <td>1091</td>\n",
       "      <td>Videoüberwachung in Berliner Kitas</td>\n",
       "      <td>Videoüberwachung in Berliner Kitas?</td>\n",
       "      <td>Drucksache 17 /  14 146 \\n Schriftliche Anfrag...</td>\n",
       "      <td>False</td>\n",
       "      <td>2014-07-14</td>\n",
       "      <td>http://pardok.parlament-berlin.de/starweb/adis...</td>\n",
       "      <td>17</td>\n",
       "      <td>Senatsverwaltung für Bildung, Jugend und Wisse...</td>\n",
       "      <td>Sen. Bildung, Jugend und Wissenschaft (WP17)</td>\n",
       "      <td>Piraten</td>\n",
       "      <td>2014-07-14</td>\n",
       "    </tr>\n",
       "    <tr>\n",
       "      <th>4</th>\n",
       "      <td>1092</td>\n",
       "      <td>Kinderschutz braucht Kinderschützer  Was sind ...</td>\n",
       "      <td>Kinderschutz braucht Kinderschützer - Was sind...</td>\n",
       "      <td>Drucksache 17 /  14 149 \\n Schriftliche Anfrag...</td>\n",
       "      <td>False</td>\n",
       "      <td>2014-07-09</td>\n",
       "      <td>http://pardok.parlament-berlin.de/starweb/adis...</td>\n",
       "      <td>17</td>\n",
       "      <td>Senatsverwaltung für Bildung, Jugend und Wisse...</td>\n",
       "      <td>Sen. Bildung, Jugend und Wissenschaft (WP17)</td>\n",
       "      <td>Piraten</td>\n",
       "      <td>2014-07-09</td>\n",
       "    </tr>\n",
       "  </tbody>\n",
       "</table>\n",
       "</div>"
      ],
      "text/plain": [
       "     id                                    title_processed  \\\n",
       "0  1086  Abschaffung der Indologie und Kunstgeschichte ...   \n",
       "1  1087  Ausgrenzung von Schulen in freier Trägerschaft...   \n",
       "2  1090               Kinderschutz online  Was ist VERAnet   \n",
       "3  1091                 Videoüberwachung in Berliner Kitas   \n",
       "4  1092  Kinderschutz braucht Kinderschützer  Was sind ...   \n",
       "\n",
       "                                               title  \\\n",
       "0  Abschaffung der Indologie und Kunstgeschichte ...   \n",
       "1  Ausgrenzung von Schulen in freier Trägerschaft...   \n",
       "2            Kinderschutz online - Was ist VERA-net?   \n",
       "3                Videoüberwachung in Berliner Kitas?   \n",
       "4  Kinderschutz braucht Kinderschützer - Was sind...   \n",
       "\n",
       "                                            contents contains_table  \\\n",
       "0  Drucksache 17 /  14 217 \\n Schriftliche Anfrag...          False   \n",
       "1  Drucksache 17 /  14 163 \\n Schriftliche Anfrag...          False   \n",
       "2  Drucksache 17 /  14 150 \\n Schriftliche Anfrag...          False   \n",
       "3  Drucksache 17 /  14 146 \\n Schriftliche Anfrag...          False   \n",
       "4  Drucksache 17 /  14 149 \\n Schriftliche Anfrag...          False   \n",
       "\n",
       "  published_at                                                url  \\\n",
       "0   2014-07-17  http://pardok.parlament-berlin.de/starweb/adis...   \n",
       "1   2014-07-09  http://pardok.parlament-berlin.de/starweb/adis...   \n",
       "2   2014-07-11  http://pardok.parlament-berlin.de/starweb/adis...   \n",
       "3   2014-07-14  http://pardok.parlament-berlin.de/starweb/adis...   \n",
       "4   2014-07-09  http://pardok.parlament-berlin.de/starweb/adis...   \n",
       "\n",
       "   legislative_term                                         ministries  \\\n",
       "0                17  Senatsverwaltung für Bildung, Jugend und Wisse...   \n",
       "1                17  Senatsverwaltung für Bildung, Jugend und Wisse...   \n",
       "2                17  Senatsverwaltung für Bildung, Jugend und Wisse...   \n",
       "3                17  Senatsverwaltung für Bildung, Jugend und Wisse...   \n",
       "4                17  Senatsverwaltung für Bildung, Jugend und Wisse...   \n",
       "\n",
       "                               ministries_short      org published_datetime  \n",
       "0  Sen. Bildung, Jugend und Wissenschaft (WP17)      CDU         2014-07-17  \n",
       "1  Sen. Bildung, Jugend und Wissenschaft (WP17)      CDU         2014-07-09  \n",
       "2  Sen. Bildung, Jugend und Wissenschaft (WP17)  Piraten         2014-07-11  \n",
       "3  Sen. Bildung, Jugend und Wissenschaft (WP17)  Piraten         2014-07-14  \n",
       "4  Sen. Bildung, Jugend und Wissenschaft (WP17)  Piraten         2014-07-09  "
      ]
     },
     "execution_count": 202,
     "metadata": {},
     "output_type": "execute_result"
    }
   ],
   "source": [
    "df.insert(1,'title_processed', df['title'].apply(remove_punctuation))\n",
    "df.head(5)"
   ]
  },
  {
   "cell_type": "markdown",
   "metadata": {},
   "source": [
    "### Stopwörter entfernen\n",
    "### *Remove stopwords*"
   ]
  },
  {
   "cell_type": "code",
   "execution_count": 203,
   "metadata": {},
   "outputs": [],
   "source": [
    "sw = [line.rstrip('\\n') for line in open('../data/stopwords_de.txt', encoding=\"utf-8\")]"
   ]
  },
  {
   "cell_type": "code",
   "execution_count": 204,
   "metadata": {},
   "outputs": [],
   "source": [
    "def stopwords(text):\n",
    "    '''a function for removing the stopword'''\n",
    "    # removing the stop words and lowercasing the selected words\n",
    "    text = [word.lower() for word in text.split() if word.lower() not in sw]\n",
    "    # joining the list of words with space separator\n",
    "    return \" \".join(text)"
   ]
  },
  {
   "cell_type": "code",
   "execution_count": 205,
   "metadata": {},
   "outputs": [
    {
     "data": {
      "text/html": [
       "<div>\n",
       "<style scoped>\n",
       "    .dataframe tbody tr th:only-of-type {\n",
       "        vertical-align: middle;\n",
       "    }\n",
       "\n",
       "    .dataframe tbody tr th {\n",
       "        vertical-align: top;\n",
       "    }\n",
       "\n",
       "    .dataframe thead th {\n",
       "        text-align: right;\n",
       "    }\n",
       "</style>\n",
       "<table border=\"1\" class=\"dataframe\">\n",
       "  <thead>\n",
       "    <tr style=\"text-align: right;\">\n",
       "      <th></th>\n",
       "      <th>id</th>\n",
       "      <th>title_processed</th>\n",
       "      <th>title</th>\n",
       "      <th>contents</th>\n",
       "      <th>contains_table</th>\n",
       "      <th>published_at</th>\n",
       "      <th>url</th>\n",
       "      <th>legislative_term</th>\n",
       "      <th>ministries</th>\n",
       "      <th>ministries_short</th>\n",
       "      <th>org</th>\n",
       "      <th>published_datetime</th>\n",
       "    </tr>\n",
       "  </thead>\n",
       "  <tbody>\n",
       "    <tr>\n",
       "      <th>0</th>\n",
       "      <td>1086</td>\n",
       "      <td>abschaffung indologie kunstgeschichte südasiens</td>\n",
       "      <td>Abschaffung der Indologie und Kunstgeschichte ...</td>\n",
       "      <td>Drucksache 17 /  14 217 \\n Schriftliche Anfrag...</td>\n",
       "      <td>False</td>\n",
       "      <td>2014-07-17</td>\n",
       "      <td>http://pardok.parlament-berlin.de/starweb/adis...</td>\n",
       "      <td>17</td>\n",
       "      <td>Senatsverwaltung für Bildung, Jugend und Wisse...</td>\n",
       "      <td>Sen. Bildung, Jugend und Wissenschaft (WP17)</td>\n",
       "      <td>CDU</td>\n",
       "      <td>2014-07-17</td>\n",
       "    </tr>\n",
       "    <tr>\n",
       "      <th>1</th>\n",
       "      <td>1087</td>\n",
       "      <td>ausgrenzung schulen freier trägerschaft fortbi...</td>\n",
       "      <td>Ausgrenzung von Schulen in freier Trägerschaft...</td>\n",
       "      <td>Drucksache 17 /  14 163 \\n Schriftliche Anfrag...</td>\n",
       "      <td>False</td>\n",
       "      <td>2014-07-09</td>\n",
       "      <td>http://pardok.parlament-berlin.de/starweb/adis...</td>\n",
       "      <td>17</td>\n",
       "      <td>Senatsverwaltung für Bildung, Jugend und Wisse...</td>\n",
       "      <td>Sen. Bildung, Jugend und Wissenschaft (WP17)</td>\n",
       "      <td>CDU</td>\n",
       "      <td>2014-07-09</td>\n",
       "    </tr>\n",
       "    <tr>\n",
       "      <th>2</th>\n",
       "      <td>1090</td>\n",
       "      <td>kinderschutz online veranet</td>\n",
       "      <td>Kinderschutz online - Was ist VERA-net?</td>\n",
       "      <td>Drucksache 17 /  14 150 \\n Schriftliche Anfrag...</td>\n",
       "      <td>False</td>\n",
       "      <td>2014-07-11</td>\n",
       "      <td>http://pardok.parlament-berlin.de/starweb/adis...</td>\n",
       "      <td>17</td>\n",
       "      <td>Senatsverwaltung für Bildung, Jugend und Wisse...</td>\n",
       "      <td>Sen. Bildung, Jugend und Wissenschaft (WP17)</td>\n",
       "      <td>Piraten</td>\n",
       "      <td>2014-07-11</td>\n",
       "    </tr>\n",
       "    <tr>\n",
       "      <th>3</th>\n",
       "      <td>1091</td>\n",
       "      <td>videoüberwachung berliner kitas</td>\n",
       "      <td>Videoüberwachung in Berliner Kitas?</td>\n",
       "      <td>Drucksache 17 /  14 146 \\n Schriftliche Anfrag...</td>\n",
       "      <td>False</td>\n",
       "      <td>2014-07-14</td>\n",
       "      <td>http://pardok.parlament-berlin.de/starweb/adis...</td>\n",
       "      <td>17</td>\n",
       "      <td>Senatsverwaltung für Bildung, Jugend und Wisse...</td>\n",
       "      <td>Sen. Bildung, Jugend und Wissenschaft (WP17)</td>\n",
       "      <td>Piraten</td>\n",
       "      <td>2014-07-14</td>\n",
       "    </tr>\n",
       "    <tr>\n",
       "      <th>4</th>\n",
       "      <td>1092</td>\n",
       "      <td>kinderschutz braucht kinderschützer ergebnisse...</td>\n",
       "      <td>Kinderschutz braucht Kinderschützer - Was sind...</td>\n",
       "      <td>Drucksache 17 /  14 149 \\n Schriftliche Anfrag...</td>\n",
       "      <td>False</td>\n",
       "      <td>2014-07-09</td>\n",
       "      <td>http://pardok.parlament-berlin.de/starweb/adis...</td>\n",
       "      <td>17</td>\n",
       "      <td>Senatsverwaltung für Bildung, Jugend und Wisse...</td>\n",
       "      <td>Sen. Bildung, Jugend und Wissenschaft (WP17)</td>\n",
       "      <td>Piraten</td>\n",
       "      <td>2014-07-09</td>\n",
       "    </tr>\n",
       "  </tbody>\n",
       "</table>\n",
       "</div>"
      ],
      "text/plain": [
       "     id                                    title_processed  \\\n",
       "0  1086    abschaffung indologie kunstgeschichte südasiens   \n",
       "1  1087  ausgrenzung schulen freier trägerschaft fortbi...   \n",
       "2  1090                        kinderschutz online veranet   \n",
       "3  1091                    videoüberwachung berliner kitas   \n",
       "4  1092  kinderschutz braucht kinderschützer ergebnisse...   \n",
       "\n",
       "                                               title  \\\n",
       "0  Abschaffung der Indologie und Kunstgeschichte ...   \n",
       "1  Ausgrenzung von Schulen in freier Trägerschaft...   \n",
       "2            Kinderschutz online - Was ist VERA-net?   \n",
       "3                Videoüberwachung in Berliner Kitas?   \n",
       "4  Kinderschutz braucht Kinderschützer - Was sind...   \n",
       "\n",
       "                                            contents contains_table  \\\n",
       "0  Drucksache 17 /  14 217 \\n Schriftliche Anfrag...          False   \n",
       "1  Drucksache 17 /  14 163 \\n Schriftliche Anfrag...          False   \n",
       "2  Drucksache 17 /  14 150 \\n Schriftliche Anfrag...          False   \n",
       "3  Drucksache 17 /  14 146 \\n Schriftliche Anfrag...          False   \n",
       "4  Drucksache 17 /  14 149 \\n Schriftliche Anfrag...          False   \n",
       "\n",
       "  published_at                                                url  \\\n",
       "0   2014-07-17  http://pardok.parlament-berlin.de/starweb/adis...   \n",
       "1   2014-07-09  http://pardok.parlament-berlin.de/starweb/adis...   \n",
       "2   2014-07-11  http://pardok.parlament-berlin.de/starweb/adis...   \n",
       "3   2014-07-14  http://pardok.parlament-berlin.de/starweb/adis...   \n",
       "4   2014-07-09  http://pardok.parlament-berlin.de/starweb/adis...   \n",
       "\n",
       "   legislative_term                                         ministries  \\\n",
       "0                17  Senatsverwaltung für Bildung, Jugend und Wisse...   \n",
       "1                17  Senatsverwaltung für Bildung, Jugend und Wisse...   \n",
       "2                17  Senatsverwaltung für Bildung, Jugend und Wisse...   \n",
       "3                17  Senatsverwaltung für Bildung, Jugend und Wisse...   \n",
       "4                17  Senatsverwaltung für Bildung, Jugend und Wisse...   \n",
       "\n",
       "                               ministries_short      org published_datetime  \n",
       "0  Sen. Bildung, Jugend und Wissenschaft (WP17)      CDU         2014-07-17  \n",
       "1  Sen. Bildung, Jugend und Wissenschaft (WP17)      CDU         2014-07-09  \n",
       "2  Sen. Bildung, Jugend und Wissenschaft (WP17)  Piraten         2014-07-11  \n",
       "3  Sen. Bildung, Jugend und Wissenschaft (WP17)  Piraten         2014-07-14  \n",
       "4  Sen. Bildung, Jugend und Wissenschaft (WP17)  Piraten         2014-07-09  "
      ]
     },
     "execution_count": 205,
     "metadata": {},
     "output_type": "execute_result"
    }
   ],
   "source": [
    "df['title_processed'] = df['title_processed'].apply(stopwords)\n",
    "df.head(5)"
   ]
  },
  {
   "cell_type": "markdown",
   "metadata": {},
   "source": [
    "### Stemming"
   ]
  },
  {
   "cell_type": "code",
   "execution_count": 206,
   "metadata": {},
   "outputs": [],
   "source": [
    "import re\n",
    "# create an object of stemming function\n",
    "stemmer = SnowballStemmer(\"german\")\n",
    "\n",
    "def stemming(text):    \n",
    "    '''a function which stems each word in the given text'''\n",
    "\n",
    "    text = [stemmer.stem(word) for word in text.split()]\n",
    "    \n",
    "    # wohnung is not stemmed properly to wohn. Fix:\n",
    "    text = [re.sub(r\"\\bwohnung\\b\",\"wohn\",sentence) for sentence in text]\n",
    "    \n",
    "    # kitas is not stemmed properly to kita. Fix:\n",
    "    text = [re.sub(r\"\\bkitas\\b\",\"kita\",sentence) for sentence in text]\n",
    "\n",
    "    return \" \".join(text) "
   ]
  },
  {
   "cell_type": "markdown",
   "metadata": {},
   "source": [
    "### Vecotrize words"
   ]
  },
  {
   "cell_type": "code",
   "execution_count": 207,
   "metadata": {},
   "outputs": [],
   "source": [
    "def count_vec(data):\n",
    "    # count-vectorizer\n",
    "\n",
    "    # create a count vectorizer object\n",
    "    count_vectorizer = CountVectorizer()\n",
    "    # fit the count vectorizer using the text data\n",
    "    vector = count_vectorizer.fit_transform(data)\n",
    "\n",
    "    # lists to store the vocab and counts\n",
    "    vocab = count_vectorizer.get_feature_names()\n",
    "    count = vector.toarray().sum(axis=0)\n",
    "    # store the count in panadas dataframe with vocab as index\n",
    "    vocab_count = pd.Series(count, index=vocab)\n",
    "    ## sort the dataframe\n",
    "    return vector, vocab_count"
   ]
  },
  {
   "cell_type": "code",
   "execution_count": 208,
   "metadata": {},
   "outputs": [],
   "source": [
    "def tfid_vec(data):\n",
    "    # create the object of tfid vectorizer\n",
    "    tfid_vectorizer = TfidfVectorizer(\"german\")\n",
    "    # fit the vectorizer using the text data\n",
    "    tfid_vector = tfid_vectorizer.fit_transform(data)\n",
    "\n",
    "    # lists to store the vocab and counts\n",
    "    vocab = tfid_vectorizer.get_feature_names()\n",
    "    count = tfid_vector.toarray().sum(axis=0)\n",
    "    # store the count in panadas dataframe with vocab as index\n",
    "    vocab_count = pd.Series(count, index=vocab)\n",
    "    return tfid_vector, vocab_count"
   ]
  },
  {
   "cell_type": "code",
   "execution_count": 209,
   "metadata": {},
   "outputs": [
    {
     "data": {
      "text/html": [
       "<div>\n",
       "<style scoped>\n",
       "    .dataframe tbody tr th:only-of-type {\n",
       "        vertical-align: middle;\n",
       "    }\n",
       "\n",
       "    .dataframe tbody tr th {\n",
       "        vertical-align: top;\n",
       "    }\n",
       "\n",
       "    .dataframe thead th {\n",
       "        text-align: right;\n",
       "    }\n",
       "</style>\n",
       "<table border=\"1\" class=\"dataframe\">\n",
       "  <thead>\n",
       "    <tr style=\"text-align: right;\">\n",
       "      <th></th>\n",
       "      <th>id</th>\n",
       "      <th>title_processed</th>\n",
       "      <th>title_stemm</th>\n",
       "      <th>title</th>\n",
       "      <th>contents</th>\n",
       "      <th>contains_table</th>\n",
       "      <th>published_at</th>\n",
       "      <th>url</th>\n",
       "      <th>legislative_term</th>\n",
       "      <th>ministries</th>\n",
       "      <th>ministries_short</th>\n",
       "      <th>org</th>\n",
       "      <th>published_datetime</th>\n",
       "    </tr>\n",
       "  </thead>\n",
       "  <tbody>\n",
       "    <tr>\n",
       "      <th>0</th>\n",
       "      <td>1086</td>\n",
       "      <td>abschaffung indologie kunstgeschichte südasiens</td>\n",
       "      <td>abschaff indologi kunstgeschicht sudasi</td>\n",
       "      <td>Abschaffung der Indologie und Kunstgeschichte ...</td>\n",
       "      <td>Drucksache 17 /  14 217 \\n Schriftliche Anfrag...</td>\n",
       "      <td>False</td>\n",
       "      <td>2014-07-17</td>\n",
       "      <td>http://pardok.parlament-berlin.de/starweb/adis...</td>\n",
       "      <td>17</td>\n",
       "      <td>Senatsverwaltung für Bildung, Jugend und Wisse...</td>\n",
       "      <td>Sen. Bildung, Jugend und Wissenschaft (WP17)</td>\n",
       "      <td>CDU</td>\n",
       "      <td>2014-07-17</td>\n",
       "    </tr>\n",
       "    <tr>\n",
       "      <th>1</th>\n",
       "      <td>1087</td>\n",
       "      <td>ausgrenzung schulen freier trägerschaft fortbi...</td>\n",
       "      <td>ausgrenz schul freier tragerschaft fortbild</td>\n",
       "      <td>Ausgrenzung von Schulen in freier Trägerschaft...</td>\n",
       "      <td>Drucksache 17 /  14 163 \\n Schriftliche Anfrag...</td>\n",
       "      <td>False</td>\n",
       "      <td>2014-07-09</td>\n",
       "      <td>http://pardok.parlament-berlin.de/starweb/adis...</td>\n",
       "      <td>17</td>\n",
       "      <td>Senatsverwaltung für Bildung, Jugend und Wisse...</td>\n",
       "      <td>Sen. Bildung, Jugend und Wissenschaft (WP17)</td>\n",
       "      <td>CDU</td>\n",
       "      <td>2014-07-09</td>\n",
       "    </tr>\n",
       "    <tr>\n",
       "      <th>2</th>\n",
       "      <td>1090</td>\n",
       "      <td>kinderschutz online veranet</td>\n",
       "      <td>kinderschutz onlin veranet</td>\n",
       "      <td>Kinderschutz online - Was ist VERA-net?</td>\n",
       "      <td>Drucksache 17 /  14 150 \\n Schriftliche Anfrag...</td>\n",
       "      <td>False</td>\n",
       "      <td>2014-07-11</td>\n",
       "      <td>http://pardok.parlament-berlin.de/starweb/adis...</td>\n",
       "      <td>17</td>\n",
       "      <td>Senatsverwaltung für Bildung, Jugend und Wisse...</td>\n",
       "      <td>Sen. Bildung, Jugend und Wissenschaft (WP17)</td>\n",
       "      <td>Piraten</td>\n",
       "      <td>2014-07-11</td>\n",
       "    </tr>\n",
       "    <tr>\n",
       "      <th>3</th>\n",
       "      <td>1091</td>\n",
       "      <td>videoüberwachung berliner kitas</td>\n",
       "      <td>videouberwach kita</td>\n",
       "      <td>Videoüberwachung in Berliner Kitas?</td>\n",
       "      <td>Drucksache 17 /  14 146 \\n Schriftliche Anfrag...</td>\n",
       "      <td>False</td>\n",
       "      <td>2014-07-14</td>\n",
       "      <td>http://pardok.parlament-berlin.de/starweb/adis...</td>\n",
       "      <td>17</td>\n",
       "      <td>Senatsverwaltung für Bildung, Jugend und Wisse...</td>\n",
       "      <td>Sen. Bildung, Jugend und Wissenschaft (WP17)</td>\n",
       "      <td>Piraten</td>\n",
       "      <td>2014-07-14</td>\n",
       "    </tr>\n",
       "    <tr>\n",
       "      <th>4</th>\n",
       "      <td>1092</td>\n",
       "      <td>kinderschutz braucht kinderschützer ergebnisse...</td>\n",
       "      <td>kinderschutz braucht kinderschutz ergebnis abf...</td>\n",
       "      <td>Kinderschutz braucht Kinderschützer - Was sind...</td>\n",
       "      <td>Drucksache 17 /  14 149 \\n Schriftliche Anfrag...</td>\n",
       "      <td>False</td>\n",
       "      <td>2014-07-09</td>\n",
       "      <td>http://pardok.parlament-berlin.de/starweb/adis...</td>\n",
       "      <td>17</td>\n",
       "      <td>Senatsverwaltung für Bildung, Jugend und Wisse...</td>\n",
       "      <td>Sen. Bildung, Jugend und Wissenschaft (WP17)</td>\n",
       "      <td>Piraten</td>\n",
       "      <td>2014-07-09</td>\n",
       "    </tr>\n",
       "  </tbody>\n",
       "</table>\n",
       "</div>"
      ],
      "text/plain": [
       "     id                                    title_processed  \\\n",
       "0  1086    abschaffung indologie kunstgeschichte südasiens   \n",
       "1  1087  ausgrenzung schulen freier trägerschaft fortbi...   \n",
       "2  1090                        kinderschutz online veranet   \n",
       "3  1091                    videoüberwachung berliner kitas   \n",
       "4  1092  kinderschutz braucht kinderschützer ergebnisse...   \n",
       "\n",
       "                                         title_stemm  \\\n",
       "0            abschaff indologi kunstgeschicht sudasi   \n",
       "1        ausgrenz schul freier tragerschaft fortbild   \n",
       "2                         kinderschutz onlin veranet   \n",
       "3                                 videouberwach kita   \n",
       "4  kinderschutz braucht kinderschutz ergebnis abf...   \n",
       "\n",
       "                                               title  \\\n",
       "0  Abschaffung der Indologie und Kunstgeschichte ...   \n",
       "1  Ausgrenzung von Schulen in freier Trägerschaft...   \n",
       "2            Kinderschutz online - Was ist VERA-net?   \n",
       "3                Videoüberwachung in Berliner Kitas?   \n",
       "4  Kinderschutz braucht Kinderschützer - Was sind...   \n",
       "\n",
       "                                            contents contains_table  \\\n",
       "0  Drucksache 17 /  14 217 \\n Schriftliche Anfrag...          False   \n",
       "1  Drucksache 17 /  14 163 \\n Schriftliche Anfrag...          False   \n",
       "2  Drucksache 17 /  14 150 \\n Schriftliche Anfrag...          False   \n",
       "3  Drucksache 17 /  14 146 \\n Schriftliche Anfrag...          False   \n",
       "4  Drucksache 17 /  14 149 \\n Schriftliche Anfrag...          False   \n",
       "\n",
       "  published_at                                                url  \\\n",
       "0   2014-07-17  http://pardok.parlament-berlin.de/starweb/adis...   \n",
       "1   2014-07-09  http://pardok.parlament-berlin.de/starweb/adis...   \n",
       "2   2014-07-11  http://pardok.parlament-berlin.de/starweb/adis...   \n",
       "3   2014-07-14  http://pardok.parlament-berlin.de/starweb/adis...   \n",
       "4   2014-07-09  http://pardok.parlament-berlin.de/starweb/adis...   \n",
       "\n",
       "   legislative_term                                         ministries  \\\n",
       "0                17  Senatsverwaltung für Bildung, Jugend und Wisse...   \n",
       "1                17  Senatsverwaltung für Bildung, Jugend und Wisse...   \n",
       "2                17  Senatsverwaltung für Bildung, Jugend und Wisse...   \n",
       "3                17  Senatsverwaltung für Bildung, Jugend und Wisse...   \n",
       "4                17  Senatsverwaltung für Bildung, Jugend und Wisse...   \n",
       "\n",
       "                               ministries_short      org published_datetime  \n",
       "0  Sen. Bildung, Jugend und Wissenschaft (WP17)      CDU         2014-07-17  \n",
       "1  Sen. Bildung, Jugend und Wissenschaft (WP17)      CDU         2014-07-09  \n",
       "2  Sen. Bildung, Jugend und Wissenschaft (WP17)  Piraten         2014-07-11  \n",
       "3  Sen. Bildung, Jugend und Wissenschaft (WP17)  Piraten         2014-07-14  \n",
       "4  Sen. Bildung, Jugend und Wissenschaft (WP17)  Piraten         2014-07-09  "
      ]
     },
     "execution_count": 209,
     "metadata": {},
     "output_type": "execute_result"
    }
   ],
   "source": [
    "df.insert(2,\"title_stemm\", df[\"title_processed\"].apply(stemming))\n",
    "\n",
    "# apply stopwords again on stemmed words\n",
    "df['title_stemm'] = df['title_stemm'].apply(stopwords)\n",
    "df.head(5)"
   ]
  },
  {
   "cell_type": "code",
   "execution_count": 210,
   "metadata": {},
   "outputs": [
    {
     "data": {
      "text/plain": [
       "schul         653\n",
       "polizei       456\n",
       "privat        261\n",
       "fluchtling    229\n",
       "ber           215\n",
       "kind          213\n",
       "feuerwehr     180\n",
       "gefluchtet    163\n",
       "wohn          161\n",
       "landeseig     160\n",
       "dtype: int64"
      ]
     },
     "execution_count": 210,
     "metadata": {},
     "output_type": "execute_result"
    }
   ],
   "source": [
    "count_vector, count_vocab = count_vec(df['title_stemm'])\n",
    "count_vocab.sort_values(ascending=False).head(10)"
   ]
  },
  {
   "cell_type": "code",
   "execution_count": 211,
   "metadata": {},
   "outputs": [],
   "source": [
    "count_vocab.sort_values(ascending=False).to_csv('../data/word_counts.csv')"
   ]
  },
  {
   "cell_type": "code",
   "execution_count": 212,
   "metadata": {},
   "outputs": [
    {
     "data": {
      "text/plain": [
       "schul         205.464393\n",
       "polizei       147.476776\n",
       "privat         81.270552\n",
       "fluchtling     78.692407\n",
       "ber            75.603968\n",
       "feuerwehr      72.654282\n",
       "kind           69.329986\n",
       "wohn           62.961084\n",
       "gefluchtet     61.010257\n",
       "neukolln       60.961950\n",
       "dtype: float64"
      ]
     },
     "execution_count": 212,
     "metadata": {},
     "output_type": "execute_result"
    }
   ],
   "source": [
    "tfid_vector, tfid_vocab = tfid_vec(df[\"title_stemm\"])\n",
    "tfid_vocab.sort_values(ascending=False).head(10)"
   ]
  },
  {
   "cell_type": "markdown",
   "metadata": {},
   "source": [
    "Count Vectorizer and TFID Vector almost get the same results. Therefore, the results of the CountVectorizer will be used for further analysis."
   ]
  },
  {
   "cell_type": "markdown",
   "metadata": {},
   "source": [
    "### Anzahl Anfragen pro Jahr\n",
    "### *Count of questions per year:*"
   ]
  },
  {
   "cell_type": "markdown",
   "metadata": {},
   "source": [
    "The count of (in the database registered) 'Anfragen' constantly increases. \n",
    "Only in the election year 2016 the count drops."
   ]
  },
  {
   "cell_type": "code",
   "execution_count": 213,
   "metadata": {},
   "outputs": [],
   "source": [
    "def word_timeseries(word):\n",
    "    return df[df.title_stemm.apply(lambda x: word in x)].\\\n",
    "        published_datetime.apply(lambda x: x.year)\\\n",
    "        .value_counts().sort_index()"
   ]
  },
  {
   "cell_type": "code",
   "execution_count": 214,
   "metadata": {},
   "outputs": [],
   "source": [
    "total_count = df.published_datetime.apply(lambda x: x.year).value_counts().sort_index()\n",
    "#drop 2019 as there is almost no data yet\n",
    "total_count.drop(2019, inplace =True)\n",
    "wohn = word_timeseries('wohn')\n",
    "fluchtling = word_timeseries('fluchtling')\n",
    "schul = word_timeseries('schul')\n",
    "polizei = word_timeseries('polizei')"
   ]
  },
  {
   "cell_type": "code",
   "execution_count": 215,
   "metadata": {},
   "outputs": [
    {
     "data": {
      "text/plain": [
       "<matplotlib.axes._subplots.AxesSubplot at 0x1a22d7e4e0>"
      ]
     },
     "execution_count": 215,
     "metadata": {},
     "output_type": "execute_result"
    },
    {
     "data": {
      "image/png": "[encoded data removed]",
      "text/plain": [
       "<Figure size 432x288 with 1 Axes>"
      ]
     },
     "metadata": {
      "needs_background": "light"
     },
     "output_type": "display_data"
    }
   ],
   "source": [
    "total_count.plot()"
   ]
  },
  {
   "cell_type": "code",
   "execution_count": 216,
   "metadata": {},
   "outputs": [],
   "source": [
    "single_words_count = pd.DataFrame([wohn, fluchtling, schul, polizei], index = ('wohn', 'fluchtling', 'schul', 'polizei')).T\n",
    "single_words_count.drop(2019, inplace =True)"
   ]
  },
  {
   "cell_type": "code",
   "execution_count": 217,
   "metadata": {},
   "outputs": [
    {
     "data": {
      "text/plain": [
       "<matplotlib.axes._subplots.AxesSubplot at 0x1a23b22828>"
      ]
     },
     "execution_count": 217,
     "metadata": {},
     "output_type": "execute_result"
    },
    {
     "data": {
      "image/png": "[encoded data removed]",
      "text/plain": [
       "<Figure size 432x288 with 1 Axes>"
      ]
     },
     "metadata": {
      "needs_background": "light"
     },
     "output_type": "display_data"
    }
   ],
   "source": [
    "single_words_count.plot()"
   ]
  },
  {
   "cell_type": "code",
   "execution_count": 218,
   "metadata": {},
   "outputs": [],
   "source": [
    "data = pd.DataFrame(total_count).reset_index()"
   ]
  },
  {
   "cell_type": "code",
   "execution_count": 219,
   "metadata": {},
   "outputs": [],
   "source": [
    "data.columns = ['date', 'count']\n",
    "data.to_csv('../data/all_words_ts.csv', index=False)"
   ]
  },
  {
   "cell_type": "markdown",
   "metadata": {},
   "source": [
    "### Häufigste Worte nach Senatsverwaltung\n",
    "### *Most frequent words by ministry*"
   ]
  },
  {
   "cell_type": "code",
   "execution_count": 220,
   "metadata": {},
   "outputs": [],
   "source": [
    "def word_counts_by(column_name, count_vector, count_vocab):\n",
    "    \n",
    "    vector_as_df = pd.DataFrame(count_vector.toarray())\n",
    "    vector_as_df.columns = count_vocab.index\n",
    "    vector_as_df[column_name] = df[column_name]\n",
    "    \n",
    "    # group by the selected column_name and add the overall sum \n",
    "    vector_as_df = vector_as_df.groupby(column_name).sum()    \n",
    "    return vector_as_df"
   ]
  },
  {
   "cell_type": "code",
   "execution_count": 221,
   "metadata": {},
   "outputs": [
    {
     "data": {
      "text/plain": [
       "polizei              437\n",
       "feuerwehr            170\n",
       "anschlag              93\n",
       "kriminalitat          84\n",
       "breitscheidplatz      77\n",
       "einsatz               72\n",
       "verfassungsschutz     69\n",
       "freiwill              58\n",
       "organisiert           55\n",
       "polizeieinsatz        53\n",
       "baderbetrieb          52\n",
       "straftat              52\n",
       "kampf                 48\n",
       "bbb                   43\n",
       "verwalt               41\n",
       "Name: Senatsverwaltung für Inneres und Sport, dtype: int64"
      ]
     },
     "execution_count": 221,
     "metadata": {},
     "output_type": "execute_result"
    }
   ],
   "source": [
    "word_count_minist = word_counts_by('ministries', count_vector, count_vocab)\n",
    "\n",
    "minist = 'Senatsverwaltung für Inneres und Sport'\n",
    "\n",
    "word_count_minist.loc[minist].sort_values(ascending=False).head(15)"
   ]
  },
  {
   "cell_type": "code",
   "execution_count": 222,
   "metadata": {},
   "outputs": [
    {
     "data": {
      "text/plain": [
       "mahlsdorf       41\n",
       "bahnhof         38\n",
       "bvg             38\n",
       "grun            30\n",
       "sanier          27\n",
       "bruck           26\n",
       "iga             25\n",
       "sbahn           25\n",
       "sbahnhof        24\n",
       "tegel           24\n",
       "rudow           23\n",
       "barrierefrei    21\n",
       "monat           21\n",
       "zustand         20\n",
       "flughaf         19\n",
       "Name: Senatsverwaltung für Umwelt, Verkehr und Klimaschutz, dtype: int64"
      ]
     },
     "execution_count": 222,
     "metadata": {},
     "output_type": "execute_result"
    }
   ],
   "source": [
    "word_count_minist = word_counts_by('ministries', count_vector, count_vocab)\n",
    "\n",
    "minist = 'Senatsverwaltung für Umwelt, Verkehr und Klimaschutz'\n",
    "\n",
    "word_count_minist.loc[minist].sort_values(ascending=False).head(15)"
   ]
  },
  {
   "cell_type": "code",
   "execution_count": 223,
   "metadata": {},
   "outputs": [
    {
     "data": {
      "text/plain": [
       "bvg                        62\n",
       "wohnungsbaugesellschaft    59\n",
       "wohn                       53\n",
       "staatsopernskandal         52\n",
       "sbahn                      51\n",
       "landeseig                  44\n",
       "flughaf                    40\n",
       "tempelhof                  40\n",
       "ber                        35\n",
       "sanier                     35\n",
       "tegel                      31\n",
       "planung                    30\n",
       "feld                       29\n",
       "geplant                    29\n",
       "barrierefrei               29\n",
       "Name: Senatsverwaltung für Stadtentwicklung und Umwelt (WP17), dtype: int64"
      ]
     },
     "execution_count": 223,
     "metadata": {},
     "output_type": "execute_result"
    }
   ],
   "source": [
    "word_count_minist = word_counts_by('ministries', count_vector, count_vocab)\n",
    "\n",
    "minist = 'Senatsverwaltung für Stadtentwicklung und Umwelt (WP17)'\n",
    "\n",
    "word_count_minist.loc[minist].sort_values(ascending=False).head(15)"
   ]
  },
  {
   "cell_type": "code",
   "execution_count": 224,
   "metadata": {},
   "outputs": [
    {
     "data": {
      "text/plain": [
       "bvg                        100\n",
       "sbahn                       76\n",
       "sanier                      62\n",
       "bahnhof                     62\n",
       "wohnungsbaugesellschaft     59\n",
       "flughaf                     59\n",
       "wohn                        58\n",
       "tegel                       55\n",
       "staatsopernskandal          52\n",
       "mahlsdorf                   51\n",
       "dtype: int64"
      ]
     },
     "execution_count": 224,
     "metadata": {},
     "output_type": "execute_result"
    }
   ],
   "source": [
    "minist1 = 'Senatsverwaltung für Umwelt, Verkehr und Klimaschutz'\n",
    "minist2 = 'Senatsverwaltung für Stadtentwicklung und Umwelt (WP17)'\n",
    "\n",
    "word_count_minist.loc[[minist1, minist2]].sum().sort_values(ascending=False).head(10)"
   ]
  },
  {
   "cell_type": "code",
   "execution_count": 225,
   "metadata": {},
   "outputs": [
    {
     "data": {
      "text/plain": [
       "schul               606\n",
       "privat              154\n",
       "sonderungsverbot    134\n",
       "schuljahr           125\n",
       "kind                115\n",
       "kita                102\n",
       "grundschul           72\n",
       "ergebnis             64\n",
       "jugend               60\n",
       "minderjahr           48\n",
       "dtype: int64"
      ]
     },
     "execution_count": 225,
     "metadata": {},
     "output_type": "execute_result"
    }
   ],
   "source": [
    "minist1 = 'Senatsverwaltung für Bildung, Jugend und Familie'\n",
    "minist2 = 'Senatsverwaltung für Bildung, Jugend und Wissenschaft (WP17)'\n",
    "\n",
    "word_count_minist.loc[[minist1, minist2]].sum().sort_values(ascending=False).head(10)"
   ]
  },
  {
   "cell_type": "markdown",
   "metadata": {},
   "source": [
    "### Netzwerk der Worte: welche hängen miteinander zusammen?\n",
    "### *Network of Words: which words are related?*"
   ]
  },
  {
   "cell_type": "code",
   "execution_count": 226,
   "metadata": {},
   "outputs": [],
   "source": [
    "df[\"title_stemmed_list\"] = df.title_stemm.apply(lambda x: x.split(\" \"))\n",
    "df.to_csv('../data/preprocessed.csv', index_label='index')"
   ]
  },
  {
   "cell_type": "code",
   "execution_count": 227,
   "metadata": {},
   "outputs": [],
   "source": [
    "df_selection = df #[df.ministries.apply(lambda x: 'Stadtentwicklung' in x)]"
   ]
  },
  {
   "cell_type": "code",
   "execution_count": 228,
   "metadata": {},
   "outputs": [],
   "source": [
    "pair_list = []\n",
    "for stemmed_title in df_selection.title_stemmed_list:\n",
    "    tuples = list(itertools.combinations(stemmed_title, 2))\n",
    "    for t in tuples:\n",
    "        pair_list.append(t)\n",
    "pairs=pd.Series(pair_list).value_counts()\n",
    "df_pairs = pd.DataFrame(pairs).reset_index()"
   ]
  },
  {
   "cell_type": "code",
   "execution_count": 229,
   "metadata": {},
   "outputs": [
    {
     "data": {
      "text/plain": [
       "(privat, sonderungsverbot)              131\n",
       "(anschlag, breitscheidplatz)             85\n",
       "(organisiert, kriminalitat)              74\n",
       "(kind, jugend)                           63\n",
       "(privat, schul)                          59\n",
       "(freiwill, feuerwehr)                    59\n",
       "(landeseig, wohnungsbaugesellschaft)     53\n",
       "(kampf, rockerkriminalitat)              53\n",
       "(landeseig, unternehm)                   52\n",
       "(unbegleitet, minderjahr)                50\n",
       "dtype: int64"
      ]
     },
     "execution_count": 229,
     "metadata": {},
     "output_type": "execute_result"
    }
   ],
   "source": [
    "pairs.head(10)"
   ]
  },
  {
   "cell_type": "code",
   "execution_count": 230,
   "metadata": {},
   "outputs": [],
   "source": [
    "def write_json(filename, threshold_pairs, threshold_nodes):\n",
    "    pairs_select = pairs[pairs > threshold_pairs]\n",
    "    nodes_select = count_vocab[count_vocab > threshold_nodes]\n",
    "    nodes = []\n",
    "    for i in range(len(nodes_select)):\n",
    "        nodes.append({'id':i, 'name': nodes_select.index[i].upper(), 'size':int(nodes_select[i])})\n",
    "\n",
    "    links = []\n",
    "    for j in range(len(pairs_select)):\n",
    "        if((pairs_select.index[j][0] in nodes_select.index)& (pairs_select.index[j][1] in nodes_select.index )):\n",
    "            source = nodes_select.index.get_loc(pairs_select.index[j][0])\n",
    "            target = nodes_select.index.get_loc(pairs_select.index[j][1])\n",
    "            links.append({'source': int(source), 'target': int(target), 'weight': int(pairs_select[j])})\n",
    "\n",
    "    with open(filename, 'w') as f:\n",
    "        json.dump({'nodes': nodes, 'links': links},\n",
    "                  f, indent=4,)\n"
   ]
  },
  {
   "cell_type": "code",
   "execution_count": 231,
   "metadata": {},
   "outputs": [],
   "source": [
    "# write json files for d3 network graph\n",
    "write_json('../data/graph.json', 5, 5)\n",
    "write_json('../data/graph_small.json', 5, 25)"
   ]
  },
  {
   "cell_type": "markdown",
   "metadata": {},
   "source": [
    "### Einzelne Worte und Themen\n",
    "### *Inspecting single words and topics*"
   ]
  },
  {
   "cell_type": "markdown",
   "metadata": {},
   "source": [
    "Was ist der ganze Titel hinter einzelnen Worten? (Ändere \"word\" in der nächste Zelle nach gewünschtem Wort)\n",
    "What's the entire title behind single words? (Change word in next cell for other words)"
   ]
  },
  {
   "cell_type": "code",
   "execution_count": 232,
   "metadata": {},
   "outputs": [],
   "source": [
    "word = 'sonderungsverbot' #other words e.g.: breitscheidplatz, polizei, "
   ]
  },
  {
   "cell_type": "code",
   "execution_count": 233,
   "metadata": {},
   "outputs": [
    {
     "data": {
      "text/html": [
       "<div>\n",
       "<style scoped>\n",
       "    .dataframe tbody tr th:only-of-type {\n",
       "        vertical-align: middle;\n",
       "    }\n",
       "\n",
       "    .dataframe tbody tr th {\n",
       "        vertical-align: top;\n",
       "    }\n",
       "\n",
       "    .dataframe thead th {\n",
       "        text-align: right;\n",
       "    }\n",
       "</style>\n",
       "<table border=\"1\" class=\"dataframe\">\n",
       "  <thead>\n",
       "    <tr style=\"text-align: right;\">\n",
       "      <th></th>\n",
       "      <th>id</th>\n",
       "      <th>title_processed</th>\n",
       "      <th>title_stemm</th>\n",
       "      <th>title</th>\n",
       "      <th>contents</th>\n",
       "      <th>contains_table</th>\n",
       "      <th>published_at</th>\n",
       "      <th>url</th>\n",
       "      <th>legislative_term</th>\n",
       "      <th>ministries</th>\n",
       "      <th>ministries_short</th>\n",
       "      <th>org</th>\n",
       "      <th>published_datetime</th>\n",
       "      <th>title_stemmed_list</th>\n",
       "    </tr>\n",
       "  </thead>\n",
       "  <tbody>\n",
       "    <tr>\n",
       "      <th>10230</th>\n",
       "      <td>64708</td>\n",
       "      <td>privatschulen elitären clubs sonderungsverbot</td>\n",
       "      <td>privatschul elitar club sonderungsverbot</td>\n",
       "      <td>Privatschulen dürfen keine elitären Clubs sein...</td>\n",
       "      <td>Drucksache 18 / 10 783       \\n Schriftliche A...</td>\n",
       "      <td>True</td>\n",
       "      <td>2017-03-30</td>\n",
       "      <td>http://pardok.parlament-berlin.de/starweb/adis...</td>\n",
       "      <td>18</td>\n",
       "      <td>Senatsverwaltung für Bildung, Jugend und Familie</td>\n",
       "      <td>Sen. Bildung, Jugend und Familie</td>\n",
       "      <td>SPD</td>\n",
       "      <td>2017-03-30</td>\n",
       "      <td>[privatschul, elitar, club, sonderungsverbot]</td>\n",
       "    </tr>\n",
       "    <tr>\n",
       "      <th>10338</th>\n",
       "      <td>65439</td>\n",
       "      <td>privatschulen elitären clubs sonderungsverbot ...</td>\n",
       "      <td>privatschul elitar club sonderungsverbot hoh s...</td>\n",
       "      <td>Privatschulen dürfen keine elitären Clubs sein...</td>\n",
       "      <td>Drucksache 18 / 10 782       \\n Schriftliche A...</td>\n",
       "      <td>True</td>\n",
       "      <td>2017-04-10</td>\n",
       "      <td>http://pardok.parlament-berlin.de/starweb/adis...</td>\n",
       "      <td>18</td>\n",
       "      <td>Senatsverwaltung für Bildung, Jugend und Familie</td>\n",
       "      <td>Sen. Bildung, Jugend und Familie</td>\n",
       "      <td>SPD</td>\n",
       "      <td>2017-04-10</td>\n",
       "      <td>[privatschul, elitar, club, sonderungsverbot, ...</td>\n",
       "    </tr>\n",
       "    <tr>\n",
       "      <th>10793</th>\n",
       "      <td>67628</td>\n",
       "      <td>privatschulen tacheles lmb schulgeld gebühren ...</td>\n",
       "      <td>privatschul tachel lmb schulgeld gebuhr sonder...</td>\n",
       "      <td>Privatschulen in Berlin: Jetzt mal Tacheles! -...</td>\n",
       "      <td>Drucksache 18 / 11 128       \\n Schriftliche A...</td>\n",
       "      <td>True</td>\n",
       "      <td>2017-05-17</td>\n",
       "      <td>http://pardok.parlament-berlin.de/starweb/adis...</td>\n",
       "      <td>18</td>\n",
       "      <td>Senatsverwaltung für Bildung, Jugend und Familie</td>\n",
       "      <td>Sen. Bildung, Jugend und Familie</td>\n",
       "      <td>SPD</td>\n",
       "      <td>2017-05-17</td>\n",
       "      <td>[privatschul, tachel, lmb, schulgeld, gebuhr, ...</td>\n",
       "    </tr>\n",
       "    <tr>\n",
       "      <th>10990</th>\n",
       "      <td>68819</td>\n",
       "      <td>hält private alternative schule 12p11 sonderun...</td>\n",
       "      <td>privat alternativ schul 12p11 sonderungsverbot</td>\n",
       "      <td>Hält sich die private Alternative Schule (12P1...</td>\n",
       "      <td>Drucksache 18 / 11 356 - 11 485       \\n Schri...</td>\n",
       "      <td>True</td>\n",
       "      <td>2017-06-14</td>\n",
       "      <td>http://pardok.parlament-berlin.de/starweb/adis...</td>\n",
       "      <td>18</td>\n",
       "      <td>Senatsverwaltung für Bildung, Jugend und Familie</td>\n",
       "      <td>Sen. Bildung, Jugend und Familie</td>\n",
       "      <td>SPD</td>\n",
       "      <td>2017-06-14</td>\n",
       "      <td>[privat, alternativ, schul, 12p11, sonderungsv...</td>\n",
       "    </tr>\n",
       "    <tr>\n",
       "      <th>11003</th>\n",
       "      <td>68831</td>\n",
       "      <td>hält private freie schule charlottenburg 04p15...</td>\n",
       "      <td>privat freie schul charlottenburg 04p15 sonder...</td>\n",
       "      <td>Hält sich die private Freie Schule Charlottenb...</td>\n",
       "      <td>Drucksache 18 / 11 356 - 11 485       \\n Schri...</td>\n",
       "      <td>True</td>\n",
       "      <td>2017-06-14</td>\n",
       "      <td>http://pardok.parlament-berlin.de/starweb/adis...</td>\n",
       "      <td>18</td>\n",
       "      <td>Senatsverwaltung für Bildung, Jugend und Familie</td>\n",
       "      <td>Sen. Bildung, Jugend und Familie</td>\n",
       "      <td>SPD</td>\n",
       "      <td>2017-06-14</td>\n",
       "      <td>[privat, freie, schul, charlottenburg, 04p15, ...</td>\n",
       "    </tr>\n",
       "  </tbody>\n",
       "</table>\n",
       "</div>"
      ],
      "text/plain": [
       "          id                                    title_processed  \\\n",
       "10230  64708      privatschulen elitären clubs sonderungsverbot   \n",
       "10338  65439  privatschulen elitären clubs sonderungsverbot ...   \n",
       "10793  67628  privatschulen tacheles lmb schulgeld gebühren ...   \n",
       "10990  68819  hält private alternative schule 12p11 sonderun...   \n",
       "11003  68831  hält private freie schule charlottenburg 04p15...   \n",
       "\n",
       "                                             title_stemm  \\\n",
       "10230           privatschul elitar club sonderungsverbot   \n",
       "10338  privatschul elitar club sonderungsverbot hoh s...   \n",
       "10793  privatschul tachel lmb schulgeld gebuhr sonder...   \n",
       "10990     privat alternativ schul 12p11 sonderungsverbot   \n",
       "11003  privat freie schul charlottenburg 04p15 sonder...   \n",
       "\n",
       "                                                   title  \\\n",
       "10230  Privatschulen dürfen keine elitären Clubs sein...   \n",
       "10338  Privatschulen dürfen keine elitären Clubs sein...   \n",
       "10793  Privatschulen in Berlin: Jetzt mal Tacheles! -...   \n",
       "10990  Hält sich die private Alternative Schule (12P1...   \n",
       "11003  Hält sich die private Freie Schule Charlottenb...   \n",
       "\n",
       "                                                contents contains_table  \\\n",
       "10230  Drucksache 18 / 10 783       \\n Schriftliche A...           True   \n",
       "10338  Drucksache 18 / 10 782       \\n Schriftliche A...           True   \n",
       "10793  Drucksache 18 / 11 128       \\n Schriftliche A...           True   \n",
       "10990  Drucksache 18 / 11 356 - 11 485       \\n Schri...           True   \n",
       "11003  Drucksache 18 / 11 356 - 11 485       \\n Schri...           True   \n",
       "\n",
       "      published_at                                                url  \\\n",
       "10230   2017-03-30  http://pardok.parlament-berlin.de/starweb/adis...   \n",
       "10338   2017-04-10  http://pardok.parlament-berlin.de/starweb/adis...   \n",
       "10793   2017-05-17  http://pardok.parlament-berlin.de/starweb/adis...   \n",
       "10990   2017-06-14  http://pardok.parlament-berlin.de/starweb/adis...   \n",
       "11003   2017-06-14  http://pardok.parlament-berlin.de/starweb/adis...   \n",
       "\n",
       "       legislative_term                                        ministries  \\\n",
       "10230                18  Senatsverwaltung für Bildung, Jugend und Familie   \n",
       "10338                18  Senatsverwaltung für Bildung, Jugend und Familie   \n",
       "10793                18  Senatsverwaltung für Bildung, Jugend und Familie   \n",
       "10990                18  Senatsverwaltung für Bildung, Jugend und Familie   \n",
       "11003                18  Senatsverwaltung für Bildung, Jugend und Familie   \n",
       "\n",
       "                       ministries_short  org published_datetime  \\\n",
       "10230  Sen. Bildung, Jugend und Familie  SPD         2017-03-30   \n",
       "10338  Sen. Bildung, Jugend und Familie  SPD         2017-04-10   \n",
       "10793  Sen. Bildung, Jugend und Familie  SPD         2017-05-17   \n",
       "10990  Sen. Bildung, Jugend und Familie  SPD         2017-06-14   \n",
       "11003  Sen. Bildung, Jugend und Familie  SPD         2017-06-14   \n",
       "\n",
       "                                      title_stemmed_list  \n",
       "10230      [privatschul, elitar, club, sonderungsverbot]  \n",
       "10338  [privatschul, elitar, club, sonderungsverbot, ...  \n",
       "10793  [privatschul, tachel, lmb, schulgeld, gebuhr, ...  \n",
       "10990  [privat, alternativ, schul, 12p11, sonderungsv...  \n",
       "11003  [privat, freie, schul, charlottenburg, 04p15, ...  "
      ]
     },
     "execution_count": 233,
     "metadata": {},
     "output_type": "execute_result"
    }
   ],
   "source": [
    "# check titles where word is contained\n",
    "df[(df.title_stemm.apply(lambda x: word in x))].head()"
   ]
  },
  {
   "cell_type": "code",
   "execution_count": 234,
   "metadata": {},
   "outputs": [
    {
     "data": {
      "text/html": [
       "<div>\n",
       "<style scoped>\n",
       "    .dataframe tbody tr th:only-of-type {\n",
       "        vertical-align: middle;\n",
       "    }\n",
       "\n",
       "    .dataframe tbody tr th {\n",
       "        vertical-align: top;\n",
       "    }\n",
       "\n",
       "    .dataframe thead th {\n",
       "        text-align: right;\n",
       "    }\n",
       "</style>\n",
       "<table border=\"1\" class=\"dataframe\">\n",
       "  <thead>\n",
       "    <tr style=\"text-align: right;\">\n",
       "      <th></th>\n",
       "      <th>id</th>\n",
       "      <th>title_processed</th>\n",
       "      <th>title_stemm</th>\n",
       "      <th>title</th>\n",
       "      <th>contents</th>\n",
       "      <th>contains_table</th>\n",
       "      <th>published_at</th>\n",
       "      <th>url</th>\n",
       "      <th>legislative_term</th>\n",
       "      <th>ministries</th>\n",
       "      <th>ministries_short</th>\n",
       "      <th>org</th>\n",
       "      <th>published_datetime</th>\n",
       "      <th>title_stemmed_list</th>\n",
       "    </tr>\n",
       "  </thead>\n",
       "  <tbody>\n",
       "    <tr>\n",
       "      <th>10230</th>\n",
       "      <td>64708</td>\n",
       "      <td>privatschulen elitären clubs sonderungsverbot</td>\n",
       "      <td>privatschul elitar club sonderungsverbot</td>\n",
       "      <td>Privatschulen dürfen keine elitären Clubs sein...</td>\n",
       "      <td>Drucksache 18 / 10 783       \\n Schriftliche A...</td>\n",
       "      <td>True</td>\n",
       "      <td>2017-03-30</td>\n",
       "      <td>http://pardok.parlament-berlin.de/starweb/adis...</td>\n",
       "      <td>18</td>\n",
       "      <td>Senatsverwaltung für Bildung, Jugend und Familie</td>\n",
       "      <td>Sen. Bildung, Jugend und Familie</td>\n",
       "      <td>SPD</td>\n",
       "      <td>2017-03-30</td>\n",
       "      <td>[privatschul, elitar, club, sonderungsverbot]</td>\n",
       "    </tr>\n",
       "    <tr>\n",
       "      <th>10338</th>\n",
       "      <td>65439</td>\n",
       "      <td>privatschulen elitären clubs sonderungsverbot ...</td>\n",
       "      <td>privatschul elitar club sonderungsverbot hoh s...</td>\n",
       "      <td>Privatschulen dürfen keine elitären Clubs sein...</td>\n",
       "      <td>Drucksache 18 / 10 782       \\n Schriftliche A...</td>\n",
       "      <td>True</td>\n",
       "      <td>2017-04-10</td>\n",
       "      <td>http://pardok.parlament-berlin.de/starweb/adis...</td>\n",
       "      <td>18</td>\n",
       "      <td>Senatsverwaltung für Bildung, Jugend und Familie</td>\n",
       "      <td>Sen. Bildung, Jugend und Familie</td>\n",
       "      <td>SPD</td>\n",
       "      <td>2017-04-10</td>\n",
       "      <td>[privatschul, elitar, club, sonderungsverbot, ...</td>\n",
       "    </tr>\n",
       "    <tr>\n",
       "      <th>10793</th>\n",
       "      <td>67628</td>\n",
       "      <td>privatschulen tacheles lmb schulgeld gebühren ...</td>\n",
       "      <td>privatschul tachel lmb schulgeld gebuhr sonder...</td>\n",
       "      <td>Privatschulen in Berlin: Jetzt mal Tacheles! -...</td>\n",
       "      <td>Drucksache 18 / 11 128       \\n Schriftliche A...</td>\n",
       "      <td>True</td>\n",
       "      <td>2017-05-17</td>\n",
       "      <td>http://pardok.parlament-berlin.de/starweb/adis...</td>\n",
       "      <td>18</td>\n",
       "      <td>Senatsverwaltung für Bildung, Jugend und Familie</td>\n",
       "      <td>Sen. Bildung, Jugend und Familie</td>\n",
       "      <td>SPD</td>\n",
       "      <td>2017-05-17</td>\n",
       "      <td>[privatschul, tachel, lmb, schulgeld, gebuhr, ...</td>\n",
       "    </tr>\n",
       "    <tr>\n",
       "      <th>10990</th>\n",
       "      <td>68819</td>\n",
       "      <td>hält private alternative schule 12p11 sonderun...</td>\n",
       "      <td>privat alternativ schul 12p11 sonderungsverbot</td>\n",
       "      <td>Hält sich die private Alternative Schule (12P1...</td>\n",
       "      <td>Drucksache 18 / 11 356 - 11 485       \\n Schri...</td>\n",
       "      <td>True</td>\n",
       "      <td>2017-06-14</td>\n",
       "      <td>http://pardok.parlament-berlin.de/starweb/adis...</td>\n",
       "      <td>18</td>\n",
       "      <td>Senatsverwaltung für Bildung, Jugend und Familie</td>\n",
       "      <td>Sen. Bildung, Jugend und Familie</td>\n",
       "      <td>SPD</td>\n",
       "      <td>2017-06-14</td>\n",
       "      <td>[privat, alternativ, schul, 12p11, sonderungsv...</td>\n",
       "    </tr>\n",
       "    <tr>\n",
       "      <th>11003</th>\n",
       "      <td>68831</td>\n",
       "      <td>hält private freie schule charlottenburg 04p15...</td>\n",
       "      <td>privat freie schul charlottenburg 04p15 sonder...</td>\n",
       "      <td>Hält sich die private Freie Schule Charlottenb...</td>\n",
       "      <td>Drucksache 18 / 11 356 - 11 485       \\n Schri...</td>\n",
       "      <td>True</td>\n",
       "      <td>2017-06-14</td>\n",
       "      <td>http://pardok.parlament-berlin.de/starweb/adis...</td>\n",
       "      <td>18</td>\n",
       "      <td>Senatsverwaltung für Bildung, Jugend und Familie</td>\n",
       "      <td>Sen. Bildung, Jugend und Familie</td>\n",
       "      <td>SPD</td>\n",
       "      <td>2017-06-14</td>\n",
       "      <td>[privat, freie, schul, charlottenburg, 04p15, ...</td>\n",
       "    </tr>\n",
       "    <tr>\n",
       "      <th>11004</th>\n",
       "      <td>68832</td>\n",
       "      <td>hält private freie schule elsengrund 10p12 son...</td>\n",
       "      <td>privat freie schul elsengrund 10p12 sonderungs...</td>\n",
       "      <td>Hält sich die private Freie Schule am Elsengru...</td>\n",
       "      <td>Drucksache 18 / 11 356 - 11 485       \\n Schri...</td>\n",
       "      <td>True</td>\n",
       "      <td>2017-06-14</td>\n",
       "      <td>http://pardok.parlament-berlin.de/starweb/adis...</td>\n",
       "      <td>18</td>\n",
       "      <td>Senatsverwaltung für Bildung, Jugend und Familie</td>\n",
       "      <td>Sen. Bildung, Jugend und Familie</td>\n",
       "      <td>SPD</td>\n",
       "      <td>2017-06-14</td>\n",
       "      <td>[privat, freie, schul, elsengrund, 10p12, sond...</td>\n",
       "    </tr>\n",
       "    <tr>\n",
       "      <th>11005</th>\n",
       "      <td>68833</td>\n",
       "      <td>hält private evangelische schule wilmersdorf 0...</td>\n",
       "      <td>privat evangel schul wilmersdorf 04p21 sonderu...</td>\n",
       "      <td>Hält sich die private Evangelische Schule Wilm...</td>\n",
       "      <td>Drucksache 18 / 11 356 - 11 485       \\n Schri...</td>\n",
       "      <td>True</td>\n",
       "      <td>2017-06-14</td>\n",
       "      <td>http://pardok.parlament-berlin.de/starweb/adis...</td>\n",
       "      <td>18</td>\n",
       "      <td>Senatsverwaltung für Bildung, Jugend und Familie</td>\n",
       "      <td>Sen. Bildung, Jugend und Familie</td>\n",
       "      <td>SPD</td>\n",
       "      <td>2017-06-14</td>\n",
       "      <td>[privat, evangel, schul, wilmersdorf, 04p21, s...</td>\n",
       "    </tr>\n",
       "    <tr>\n",
       "      <th>11006</th>\n",
       "      <td>68834</td>\n",
       "      <td>hält private evangelische schule lichtenberg 1...</td>\n",
       "      <td>privat evangel schul lichtenberg 11p03 sonderu...</td>\n",
       "      <td>Hält sich die private Evangelische Schule Lich...</td>\n",
       "      <td>Drucksache 18 / 11 356 - 11 485       \\n Schri...</td>\n",
       "      <td>True</td>\n",
       "      <td>2017-06-14</td>\n",
       "      <td>http://pardok.parlament-berlin.de/starweb/adis...</td>\n",
       "      <td>18</td>\n",
       "      <td>Senatsverwaltung für Bildung, Jugend und Familie</td>\n",
       "      <td>Sen. Bildung, Jugend und Familie</td>\n",
       "      <td>SPD</td>\n",
       "      <td>2017-06-14</td>\n",
       "      <td>[privat, evangel, schul, lichtenberg, 11p03, s...</td>\n",
       "    </tr>\n",
       "    <tr>\n",
       "      <th>11007</th>\n",
       "      <td>68835</td>\n",
       "      <td>hält private evangelische schule charlottenbur...</td>\n",
       "      <td>privat evangel schul charlottenburg 04p05 sond...</td>\n",
       "      <td>Hält sich die private Evangelische Schule Char...</td>\n",
       "      <td>Drucksache 18 / 11 356 - 11 485       \\n Schri...</td>\n",
       "      <td>True</td>\n",
       "      <td>2017-06-14</td>\n",
       "      <td>http://pardok.parlament-berlin.de/starweb/adis...</td>\n",
       "      <td>18</td>\n",
       "      <td>Senatsverwaltung für Bildung, Jugend und Familie</td>\n",
       "      <td>Sen. Bildung, Jugend und Familie</td>\n",
       "      <td>SPD</td>\n",
       "      <td>2017-06-14</td>\n",
       "      <td>[privat, evangel, schul, charlottenburg, 04p05...</td>\n",
       "    </tr>\n",
       "    <tr>\n",
       "      <th>11008</th>\n",
       "      <td>68836</td>\n",
       "      <td>hält private evangelische schule berlinfriedri...</td>\n",
       "      <td>privat evangel schul berlinfriedrichshain 02p2...</td>\n",
       "      <td>Hält sich die private Evangelische Schule Berl...</td>\n",
       "      <td>Drucksache 18 / 11 356 - 11 485       \\n Schri...</td>\n",
       "      <td>True</td>\n",
       "      <td>2017-06-14</td>\n",
       "      <td>http://pardok.parlament-berlin.de/starweb/adis...</td>\n",
       "      <td>18</td>\n",
       "      <td>Senatsverwaltung für Bildung, Jugend und Familie</td>\n",
       "      <td>Sen. Bildung, Jugend und Familie</td>\n",
       "      <td>SPD</td>\n",
       "      <td>2017-06-14</td>\n",
       "      <td>[privat, evangel, schul, berlinfriedrichshain,...</td>\n",
       "    </tr>\n",
       "    <tr>\n",
       "      <th>11009</th>\n",
       "      <td>68837</td>\n",
       "      <td>hält private evangelische gymnasium grauen klo...</td>\n",
       "      <td>privat evangel gymnasium grau klost 04p11 sond...</td>\n",
       "      <td>Hält sich das private Evangelische Gymnasium z...</td>\n",
       "      <td>Drucksache 18 / 11 356 - 11 485       \\n Schri...</td>\n",
       "      <td>True</td>\n",
       "      <td>2017-06-14</td>\n",
       "      <td>http://pardok.parlament-berlin.de/starweb/adis...</td>\n",
       "      <td>18</td>\n",
       "      <td>Senatsverwaltung für Bildung, Jugend und Familie</td>\n",
       "      <td>Sen. Bildung, Jugend und Familie</td>\n",
       "      <td>SPD</td>\n",
       "      <td>2017-06-14</td>\n",
       "      <td>[privat, evangel, gymnasium, grau, klost, 04p1...</td>\n",
       "    </tr>\n",
       "    <tr>\n",
       "      <th>11010</th>\n",
       "      <td>68838</td>\n",
       "      <td>hält private aktivschule charlottenburg 04p22 ...</td>\n",
       "      <td>privat aktivschul charlottenburg 04p22 sonderu...</td>\n",
       "      <td>Hält sich die private Erste Aktivschule Charlo...</td>\n",
       "      <td>Drucksache 18 / 11 356 - 11 485       \\n Schri...</td>\n",
       "      <td>True</td>\n",
       "      <td>2017-06-14</td>\n",
       "      <td>http://pardok.parlament-berlin.de/starweb/adis...</td>\n",
       "      <td>18</td>\n",
       "      <td>Senatsverwaltung für Bildung, Jugend und Familie</td>\n",
       "      <td>Sen. Bildung, Jugend und Familie</td>\n",
       "      <td>SPD</td>\n",
       "      <td>2017-06-14</td>\n",
       "      <td>[privat, aktivschul, charlottenburg, 04p22, so...</td>\n",
       "    </tr>\n",
       "    <tr>\n",
       "      <th>11011</th>\n",
       "      <td>68839</td>\n",
       "      <td>hält private bipgrundschule berlinkaulsdorf 10...</td>\n",
       "      <td>privat bipgrundschul berlinkaulsdorf 10p14 son...</td>\n",
       "      <td>Hält sich die private bip-Grundschule Berlin-K...</td>\n",
       "      <td>Drucksache 18 / 11 356 - 11 485       \\n Schri...</td>\n",
       "      <td>True</td>\n",
       "      <td>2017-06-14</td>\n",
       "      <td>http://pardok.parlament-berlin.de/starweb/adis...</td>\n",
       "      <td>18</td>\n",
       "      <td>Senatsverwaltung für Bildung, Jugend und Familie</td>\n",
       "      <td>Sen. Bildung, Jugend und Familie</td>\n",
       "      <td>SPD</td>\n",
       "      <td>2017-06-14</td>\n",
       "      <td>[privat, bipgrundschul, berlinkaulsdorf, 10p14...</td>\n",
       "    </tr>\n",
       "    <tr>\n",
       "      <th>11012</th>\n",
       "      <td>68840</td>\n",
       "      <td>hält private bestsabelgrundschule mahlsdorf 10...</td>\n",
       "      <td>privat bestsabelgrundschul mahlsdorf 10p05 son...</td>\n",
       "      <td>Hält sich die private BEST-Sabel-Grundschule M...</td>\n",
       "      <td>Drucksache 18 / 11 356 - 11 485       \\n Schri...</td>\n",
       "      <td>True</td>\n",
       "      <td>2017-06-14</td>\n",
       "      <td>http://pardok.parlament-berlin.de/starweb/adis...</td>\n",
       "      <td>18</td>\n",
       "      <td>Senatsverwaltung für Bildung, Jugend und Familie</td>\n",
       "      <td>Sen. Bildung, Jugend und Familie</td>\n",
       "      <td>SPD</td>\n",
       "      <td>2017-06-14</td>\n",
       "      <td>[privat, bestsabelgrundschul, mahlsdorf, 10p05...</td>\n",
       "    </tr>\n",
       "    <tr>\n",
       "      <th>11013</th>\n",
       "      <td>68841</td>\n",
       "      <td>hält private bestsabelgrundschule kaulsdorf 10...</td>\n",
       "      <td>privat bestsabelgrundschul kaulsdorf 10p13 son...</td>\n",
       "      <td>Hält sich die private BEST-Sabel-Grundschule K...</td>\n",
       "      <td>Drucksache 18 / 11 356 - 11 485       \\n Schri...</td>\n",
       "      <td>True</td>\n",
       "      <td>2017-06-14</td>\n",
       "      <td>http://pardok.parlament-berlin.de/starweb/adis...</td>\n",
       "      <td>18</td>\n",
       "      <td>Senatsverwaltung für Bildung, Jugend und Familie</td>\n",
       "      <td>Sen. Bildung, Jugend und Familie</td>\n",
       "      <td>SPD</td>\n",
       "      <td>2017-06-14</td>\n",
       "      <td>[privat, bestsabelgrundschul, kaulsdorf, 10p13...</td>\n",
       "    </tr>\n",
       "  </tbody>\n",
       "</table>\n",
       "</div>"
      ],
      "text/plain": [
       "          id                                    title_processed  \\\n",
       "10230  64708      privatschulen elitären clubs sonderungsverbot   \n",
       "10338  65439  privatschulen elitären clubs sonderungsverbot ...   \n",
       "10793  67628  privatschulen tacheles lmb schulgeld gebühren ...   \n",
       "10990  68819  hält private alternative schule 12p11 sonderun...   \n",
       "11003  68831  hält private freie schule charlottenburg 04p15...   \n",
       "11004  68832  hält private freie schule elsengrund 10p12 son...   \n",
       "11005  68833  hält private evangelische schule wilmersdorf 0...   \n",
       "11006  68834  hält private evangelische schule lichtenberg 1...   \n",
       "11007  68835  hält private evangelische schule charlottenbur...   \n",
       "11008  68836  hält private evangelische schule berlinfriedri...   \n",
       "11009  68837  hält private evangelische gymnasium grauen klo...   \n",
       "11010  68838  hält private aktivschule charlottenburg 04p22 ...   \n",
       "11011  68839  hält private bipgrundschule berlinkaulsdorf 10...   \n",
       "11012  68840  hält private bestsabelgrundschule mahlsdorf 10...   \n",
       "11013  68841  hält private bestsabelgrundschule kaulsdorf 10...   \n",
       "\n",
       "                                             title_stemm  \\\n",
       "10230           privatschul elitar club sonderungsverbot   \n",
       "10338  privatschul elitar club sonderungsverbot hoh s...   \n",
       "10793  privatschul tachel lmb schulgeld gebuhr sonder...   \n",
       "10990     privat alternativ schul 12p11 sonderungsverbot   \n",
       "11003  privat freie schul charlottenburg 04p15 sonder...   \n",
       "11004  privat freie schul elsengrund 10p12 sonderungs...   \n",
       "11005  privat evangel schul wilmersdorf 04p21 sonderu...   \n",
       "11006  privat evangel schul lichtenberg 11p03 sonderu...   \n",
       "11007  privat evangel schul charlottenburg 04p05 sond...   \n",
       "11008  privat evangel schul berlinfriedrichshain 02p2...   \n",
       "11009  privat evangel gymnasium grau klost 04p11 sond...   \n",
       "11010  privat aktivschul charlottenburg 04p22 sonderu...   \n",
       "11011  privat bipgrundschul berlinkaulsdorf 10p14 son...   \n",
       "11012  privat bestsabelgrundschul mahlsdorf 10p05 son...   \n",
       "11013  privat bestsabelgrundschul kaulsdorf 10p13 son...   \n",
       "\n",
       "                                                   title  \\\n",
       "10230  Privatschulen dürfen keine elitären Clubs sein...   \n",
       "10338  Privatschulen dürfen keine elitären Clubs sein...   \n",
       "10793  Privatschulen in Berlin: Jetzt mal Tacheles! -...   \n",
       "10990  Hält sich die private Alternative Schule (12P1...   \n",
       "11003  Hält sich die private Freie Schule Charlottenb...   \n",
       "11004  Hält sich die private Freie Schule am Elsengru...   \n",
       "11005  Hält sich die private Evangelische Schule Wilm...   \n",
       "11006  Hält sich die private Evangelische Schule Lich...   \n",
       "11007  Hält sich die private Evangelische Schule Char...   \n",
       "11008  Hält sich die private Evangelische Schule Berl...   \n",
       "11009  Hält sich das private Evangelische Gymnasium z...   \n",
       "11010  Hält sich die private Erste Aktivschule Charlo...   \n",
       "11011  Hält sich die private bip-Grundschule Berlin-K...   \n",
       "11012  Hält sich die private BEST-Sabel-Grundschule M...   \n",
       "11013  Hält sich die private BEST-Sabel-Grundschule K...   \n",
       "\n",
       "                                                contents contains_table  \\\n",
       "10230  Drucksache 18 / 10 783       \\n Schriftliche A...           True   \n",
       "10338  Drucksache 18 / 10 782       \\n Schriftliche A...           True   \n",
       "10793  Drucksache 18 / 11 128       \\n Schriftliche A...           True   \n",
       "10990  Drucksache 18 / 11 356 - 11 485       \\n Schri...           True   \n",
       "11003  Drucksache 18 / 11 356 - 11 485       \\n Schri...           True   \n",
       "11004  Drucksache 18 / 11 356 - 11 485       \\n Schri...           True   \n",
       "11005  Drucksache 18 / 11 356 - 11 485       \\n Schri...           True   \n",
       "11006  Drucksache 18 / 11 356 - 11 485       \\n Schri...           True   \n",
       "11007  Drucksache 18 / 11 356 - 11 485       \\n Schri...           True   \n",
       "11008  Drucksache 18 / 11 356 - 11 485       \\n Schri...           True   \n",
       "11009  Drucksache 18 / 11 356 - 11 485       \\n Schri...           True   \n",
       "11010  Drucksache 18 / 11 356 - 11 485       \\n Schri...           True   \n",
       "11011  Drucksache 18 / 11 356 - 11 485       \\n Schri...           True   \n",
       "11012  Drucksache 18 / 11 356 - 11 485       \\n Schri...           True   \n",
       "11013  Drucksache 18 / 11 356 - 11 485       \\n Schri...           True   \n",
       "\n",
       "      published_at                                                url  \\\n",
       "10230   2017-03-30  http://pardok.parlament-berlin.de/starweb/adis...   \n",
       "10338   2017-04-10  http://pardok.parlament-berlin.de/starweb/adis...   \n",
       "10793   2017-05-17  http://pardok.parlament-berlin.de/starweb/adis...   \n",
       "10990   2017-06-14  http://pardok.parlament-berlin.de/starweb/adis...   \n",
       "11003   2017-06-14  http://pardok.parlament-berlin.de/starweb/adis...   \n",
       "11004   2017-06-14  http://pardok.parlament-berlin.de/starweb/adis...   \n",
       "11005   2017-06-14  http://pardok.parlament-berlin.de/starweb/adis...   \n",
       "11006   2017-06-14  http://pardok.parlament-berlin.de/starweb/adis...   \n",
       "11007   2017-06-14  http://pardok.parlament-berlin.de/starweb/adis...   \n",
       "11008   2017-06-14  http://pardok.parlament-berlin.de/starweb/adis...   \n",
       "11009   2017-06-14  http://pardok.parlament-berlin.de/starweb/adis...   \n",
       "11010   2017-06-14  http://pardok.parlament-berlin.de/starweb/adis...   \n",
       "11011   2017-06-14  http://pardok.parlament-berlin.de/starweb/adis...   \n",
       "11012   2017-06-14  http://pardok.parlament-berlin.de/starweb/adis...   \n",
       "11013   2017-06-14  http://pardok.parlament-berlin.de/starweb/adis...   \n",
       "\n",
       "       legislative_term                                        ministries  \\\n",
       "10230                18  Senatsverwaltung für Bildung, Jugend und Familie   \n",
       "10338                18  Senatsverwaltung für Bildung, Jugend und Familie   \n",
       "10793                18  Senatsverwaltung für Bildung, Jugend und Familie   \n",
       "10990                18  Senatsverwaltung für Bildung, Jugend und Familie   \n",
       "11003                18  Senatsverwaltung für Bildung, Jugend und Familie   \n",
       "11004                18  Senatsverwaltung für Bildung, Jugend und Familie   \n",
       "11005                18  Senatsverwaltung für Bildung, Jugend und Familie   \n",
       "11006                18  Senatsverwaltung für Bildung, Jugend und Familie   \n",
       "11007                18  Senatsverwaltung für Bildung, Jugend und Familie   \n",
       "11008                18  Senatsverwaltung für Bildung, Jugend und Familie   \n",
       "11009                18  Senatsverwaltung für Bildung, Jugend und Familie   \n",
       "11010                18  Senatsverwaltung für Bildung, Jugend und Familie   \n",
       "11011                18  Senatsverwaltung für Bildung, Jugend und Familie   \n",
       "11012                18  Senatsverwaltung für Bildung, Jugend und Familie   \n",
       "11013                18  Senatsverwaltung für Bildung, Jugend und Familie   \n",
       "\n",
       "                       ministries_short  org published_datetime  \\\n",
       "10230  Sen. Bildung, Jugend und Familie  SPD         2017-03-30   \n",
       "10338  Sen. Bildung, Jugend und Familie  SPD         2017-04-10   \n",
       "10793  Sen. Bildung, Jugend und Familie  SPD         2017-05-17   \n",
       "10990  Sen. Bildung, Jugend und Familie  SPD         2017-06-14   \n",
       "11003  Sen. Bildung, Jugend und Familie  SPD         2017-06-14   \n",
       "11004  Sen. Bildung, Jugend und Familie  SPD         2017-06-14   \n",
       "11005  Sen. Bildung, Jugend und Familie  SPD         2017-06-14   \n",
       "11006  Sen. Bildung, Jugend und Familie  SPD         2017-06-14   \n",
       "11007  Sen. Bildung, Jugend und Familie  SPD         2017-06-14   \n",
       "11008  Sen. Bildung, Jugend und Familie  SPD         2017-06-14   \n",
       "11009  Sen. Bildung, Jugend und Familie  SPD         2017-06-14   \n",
       "11010  Sen. Bildung, Jugend und Familie  SPD         2017-06-14   \n",
       "11011  Sen. Bildung, Jugend und Familie  SPD         2017-06-14   \n",
       "11012  Sen. Bildung, Jugend und Familie  SPD         2017-06-14   \n",
       "11013  Sen. Bildung, Jugend und Familie  SPD         2017-06-14   \n",
       "\n",
       "                                      title_stemmed_list  \n",
       "10230      [privatschul, elitar, club, sonderungsverbot]  \n",
       "10338  [privatschul, elitar, club, sonderungsverbot, ...  \n",
       "10793  [privatschul, tachel, lmb, schulgeld, gebuhr, ...  \n",
       "10990  [privat, alternativ, schul, 12p11, sonderungsv...  \n",
       "11003  [privat, freie, schul, charlottenburg, 04p15, ...  \n",
       "11004  [privat, freie, schul, elsengrund, 10p12, sond...  \n",
       "11005  [privat, evangel, schul, wilmersdorf, 04p21, s...  \n",
       "11006  [privat, evangel, schul, lichtenberg, 11p03, s...  \n",
       "11007  [privat, evangel, schul, charlottenburg, 04p05...  \n",
       "11008  [privat, evangel, schul, berlinfriedrichshain,...  \n",
       "11009  [privat, evangel, gymnasium, grau, klost, 04p1...  \n",
       "11010  [privat, aktivschul, charlottenburg, 04p22, so...  \n",
       "11011  [privat, bipgrundschul, berlinkaulsdorf, 10p14...  \n",
       "11012  [privat, bestsabelgrundschul, mahlsdorf, 10p05...  \n",
       "11013  [privat, bestsabelgrundschul, kaulsdorf, 10p13...  "
      ]
     },
     "execution_count": 234,
     "metadata": {},
     "output_type": "execute_result"
    }
   ],
   "source": [
    "# check titles where word is contained and has table\n",
    "df[(df.contains_table == True) &(df.title_stemmed_list.apply(lambda x: word in x))].head(15)"
   ]
  },
  {
   "cell_type": "code",
   "execution_count": null,
   "metadata": {},
   "outputs": [],
   "source": []
  }
 ],
 "metadata": {
  "kernelspec": {
   "display_name": "Python 3",
   "language": "python",
   "name": "python3"
  },
  "language_info": {
   "codemirror_mode": {
    "name": "ipython",
    "version": 3
   },
   "file_extension": ".py",
   "mimetype": "text/x-python",
   "name": "python",
   "nbconvert_exporter": "python",
   "pygments_lexer": "ipython3",
   "version": "3.7.1"
  }
 },
 "nbformat": 4,
 "nbformat_minor": 2
}
